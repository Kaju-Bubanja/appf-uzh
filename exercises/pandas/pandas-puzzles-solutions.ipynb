{
 "cells": [
  {
   "cell_type": "markdown",
   "source": [
    "# Pandas puzzles\n",
    "\n",
    "Inspired by [100 Numpy exerises](https://github.com/rougier/numpy-100), here is a short list of puzzles for testing your knowledge of [pandas'](http://pandas.pydata.org/) power.\n",
    "\n",
    "Since pandas is a large library with many different specialist features and functions, these excercises focus mainly on the fundamentals of manipulating data (indexing, grouping, aggregating, cleaning), making use of the core DataFrame and Series objects. \n",
    "\n",
    "Many of the excerises here are stright-forward in that the solutions require no more than a few lines of code (in pandas or NumPy... don't go using pure Python or Cython!). Choosing the right methods and following best practices is the underlying goal.\n",
    "\n",
    "The exercises are loosely divided in sections. Each section has a difficulty rating; these ratings are subjective, of course, but should be a seen as a rough guide as to how inventive the required solution is.\n",
    "\n",
    "If you're just starting out with pandas and you are looking for some other resources, the official documentation  is very extensive. In particular, some good places get a broader overview of pandas are...\n",
    "\n",
    "- [10 minutes to pandas](http://pandas.pydata.org/pandas-docs/stable/10min.html)\n",
    "- [pandas basics](http://pandas.pydata.org/pandas-docs/stable/basics.html)\n",
    "- [tutorials](http://pandas.pydata.org/pandas-docs/stable/tutorials.html)\n",
    "- [cookbook and idioms](http://pandas.pydata.org/pandas-docs/stable/cookbook.html#cookbook)\n",
    "\n",
    "Enjoy the puzzles!\n"
   ],
   "metadata": {
    "collapsed": false
   }
  },
  {
   "cell_type": "markdown",
   "source": [
    "## Importing pandas\n",
    "\n",
    "### Getting started and checking your pandas setup\n",
    "\n",
    "Difficulty: *easy* \n",
    "\n",
    "**1.** Import pandas under the alias `pd`."
   ],
   "metadata": {
    "collapsed": false
   }
  },
  {
   "cell_type": "code",
   "execution_count": 1,
   "outputs": [],
   "source": [
    "import pandas as pd"
   ],
   "metadata": {
    "collapsed": false,
    "pycharm": {
     "name": "#%%\n"
    }
   }
  },
  {
   "cell_type": "markdown",
   "source": [
    "**2.** Print the version of pandas that has been imported."
   ],
   "metadata": {
    "collapsed": false
   }
  },
  {
   "cell_type": "code",
   "execution_count": 2,
   "outputs": [
    {
     "data": {
      "text/plain": "'1.0.3'"
     },
     "execution_count": 2,
     "metadata": {},
     "output_type": "execute_result"
    }
   ],
   "source": [
    "pd.__version__"
   ],
   "metadata": {
    "collapsed": false,
    "pycharm": {
     "name": "#%%\n"
    }
   }
  },
  {
   "cell_type": "markdown",
   "source": [
    "**3.** Print out all the version information of the libraries that are required by the pandas library."
   ],
   "metadata": {
    "collapsed": false
   }
  },
  {
   "cell_type": "code",
   "execution_count": 3,
   "outputs": [
    {
     "name": "stdout",
     "output_type": "stream",
     "text": [
      "\n",
      "INSTALLED VERSIONS\n",
      "------------------\n",
      "commit           : None\n",
      "python           : 3.6.8.final.0\n",
      "python-bits      : 64\n",
      "OS               : Windows\n",
      "OS-release       : 10\n",
      "machine          : AMD64\n",
      "processor        : Intel64 Family 6 Model 158 Stepping 12, GenuineIntel\n",
      "byteorder        : little\n",
      "LC_ALL           : None\n",
      "LANG             : None\n",
      "LOCALE           : None.None\n",
      "\n",
      "pandas           : 1.0.3\n",
      "numpy            : 1.19.4\n",
      "pytz             : 2019.3\n",
      "dateutil         : 2.8.1\n",
      "pip              : 19.0.3\n",
      "setuptools       : 40.8.0\n",
      "Cython           : None\n",
      "pytest           : None\n",
      "hypothesis       : None\n",
      "sphinx           : None\n",
      "blosc            : None\n",
      "feather          : None\n",
      "xlsxwriter       : None\n",
      "lxml.etree       : None\n",
      "html5lib         : None\n",
      "pymysql          : None\n",
      "psycopg2         : None\n",
      "jinja2           : 2.11.1\n",
      "IPython          : 7.13.0\n",
      "pandas_datareader: None\n",
      "bs4              : None\n",
      "bottleneck       : None\n",
      "fastparquet      : None\n",
      "gcsfs            : None\n",
      "lxml.etree       : None\n",
      "matplotlib       : 3.2.1\n",
      "numexpr          : None\n",
      "odfpy            : None\n",
      "openpyxl         : None\n",
      "pandas_gbq       : None\n",
      "pyarrow          : None\n",
      "pytables         : None\n",
      "pytest           : None\n",
      "pyxlsb           : None\n",
      "s3fs             : None\n",
      "scipy            : None\n",
      "sqlalchemy       : None\n",
      "tables           : None\n",
      "tabulate         : None\n",
      "xarray           : None\n",
      "xlrd             : 1.2.0\n",
      "xlwt             : None\n",
      "xlsxwriter       : None\n",
      "numba            : None\n"
     ]
    }
   ],
   "source": [
    "pd.show_versions()"
   ],
   "metadata": {
    "collapsed": false,
    "pycharm": {
     "name": "#%%\n"
    }
   }
  },
  {
   "cell_type": "markdown",
   "source": [
    "## DataFrame basics\n",
    "\n",
    "### A few of the fundamental routines for selecting, sorting, adding and aggregating data in DataFrames\n",
    "\n",
    "Difficulty: *easy*\n",
    "\n",
    "Note: remember to import numpy using:\n",
    "```python\n",
    "import numpy as np\n",
    "```\n",
    "\n",
    "Consider the following Python dictionary `data` and Python list `labels`:\n",
    "\n",
    "``` python\n",
    "data = {'animal': ['cat', 'cat', 'snake', 'dog', 'dog', 'cat', 'snake', 'cat', 'dog', 'dog'],\n",
    "        'age': [2.5, 3, 0.5, np.nan, 5, 2, 4.5, np.nan, 7, 3],\n",
    "        'visits': [1, 3, 2, 3, 2, 3, 1, 1, 2, 1],\n",
    "        'priority': ['yes', 'yes', 'no', 'yes', 'no', 'no', 'no', 'yes', 'no', 'no']}\n",
    "\n",
    "labels = ['a', 'b', 'c', 'd', 'e', 'f', 'g', 'h', 'i', 'j']\n",
    "```\n",
    "(This is just some meaningless data I made up with the theme of animals and trips to a vet.)\n",
    "\n",
    "**4.** Create a DataFrame `df` from this dictionary `data` which has the index `labels`."
   ],
   "metadata": {
    "collapsed": false
   }
  },
  {
   "cell_type": "code",
   "execution_count": 4,
   "outputs": [],
   "source": [
    "import numpy as np\n",
    "\n",
    "data = {'animal': ['cat', 'cat', 'snake', 'dog', 'dog', 'cat', 'snake', 'cat', 'dog', 'dog'],\n",
    "        'age': [2.5, 3, 0.5, np.nan, 5, 2, 4.5, np.nan, 7, 3],\n",
    "        'visits': [1, 3, 2, 3, 2, 3, 1, 1, 2, 1],\n",
    "        'priority': ['yes', 'yes', 'no', 'yes', 'no', 'no', 'no', 'yes', 'no', 'no']}\n",
    "\n",
    "labels = ['a', 'b', 'c', 'd', 'e', 'f', 'g', 'h', 'i', 'j']\n",
    "\n",
    "df = pd.DataFrame(data, index=labels)\n",
    "df\n",
    "df_original = df.copy()"
   ],
   "metadata": {
    "collapsed": false,
    "pycharm": {
     "name": "#%%\n"
    }
   }
  },
  {
   "cell_type": "markdown",
   "source": [
    "**5.** Display a summary of the basic information about this DataFrame and its data (*hint: there is a single method that can be called on the DataFrame*)."
   ],
   "metadata": {
    "collapsed": false
   }
  },
  {
   "cell_type": "code",
   "execution_count": 5,
   "outputs": [
    {
     "name": "stdout",
     "output_type": "stream",
     "text": [
      "<class 'pandas.core.frame.DataFrame'>\n",
      "Index: 10 entries, a to j\n",
      "Data columns (total 4 columns):\n",
      " #   Column    Non-Null Count  Dtype  \n",
      "---  ------    --------------  -----  \n",
      " 0   animal    10 non-null     object \n",
      " 1   age       8 non-null      float64\n",
      " 2   visits    10 non-null     int64  \n",
      " 3   priority  10 non-null     object \n",
      "dtypes: float64(1), int64(1), object(2)\n",
      "memory usage: 400.0+ bytes\n"
     ]
    },
    {
     "data": {
      "text/plain": "            age     visits\ncount  8.000000  10.000000\nmean   3.437500   1.900000\nstd    2.007797   0.875595\nmin    0.500000   1.000000\n25%    2.375000   1.000000\n50%    3.000000   2.000000\n75%    4.625000   2.750000\nmax    7.000000   3.000000",
      "text/html": "<div>\n<style scoped>\n    .dataframe tbody tr th:only-of-type {\n        vertical-align: middle;\n    }\n\n    .dataframe tbody tr th {\n        vertical-align: top;\n    }\n\n    .dataframe thead th {\n        text-align: right;\n    }\n</style>\n<table border=\"1\" class=\"dataframe\">\n  <thead>\n    <tr style=\"text-align: right;\">\n      <th></th>\n      <th>age</th>\n      <th>visits</th>\n    </tr>\n  </thead>\n  <tbody>\n    <tr>\n      <th>count</th>\n      <td>8.000000</td>\n      <td>10.000000</td>\n    </tr>\n    <tr>\n      <th>mean</th>\n      <td>3.437500</td>\n      <td>1.900000</td>\n    </tr>\n    <tr>\n      <th>std</th>\n      <td>2.007797</td>\n      <td>0.875595</td>\n    </tr>\n    <tr>\n      <th>min</th>\n      <td>0.500000</td>\n      <td>1.000000</td>\n    </tr>\n    <tr>\n      <th>25%</th>\n      <td>2.375000</td>\n      <td>1.000000</td>\n    </tr>\n    <tr>\n      <th>50%</th>\n      <td>3.000000</td>\n      <td>2.000000</td>\n    </tr>\n    <tr>\n      <th>75%</th>\n      <td>4.625000</td>\n      <td>2.750000</td>\n    </tr>\n    <tr>\n      <th>max</th>\n      <td>7.000000</td>\n      <td>3.000000</td>\n    </tr>\n  </tbody>\n</table>\n</div>"
     },
     "execution_count": 5,
     "metadata": {},
     "output_type": "execute_result"
    }
   ],
   "source": [
    "df.info()\n",
    "\n",
    "# ...or...\n",
    "\n",
    "df.describe()"
   ],
   "metadata": {
    "collapsed": false,
    "pycharm": {
     "name": "#%%\n"
    }
   }
  },
  {
   "cell_type": "markdown",
   "source": [
    "**6.** Return the first 3 rows of the DataFrame `df`."
   ],
   "metadata": {
    "collapsed": false
   }
  },
  {
   "cell_type": "code",
   "execution_count": 6,
   "outputs": [
    {
     "data": {
      "text/plain": "  animal  age  visits priority\na    cat  2.5       1      yes\nb    cat  3.0       3      yes\nc  snake  0.5       2       no",
      "text/html": "<div>\n<style scoped>\n    .dataframe tbody tr th:only-of-type {\n        vertical-align: middle;\n    }\n\n    .dataframe tbody tr th {\n        vertical-align: top;\n    }\n\n    .dataframe thead th {\n        text-align: right;\n    }\n</style>\n<table border=\"1\" class=\"dataframe\">\n  <thead>\n    <tr style=\"text-align: right;\">\n      <th></th>\n      <th>animal</th>\n      <th>age</th>\n      <th>visits</th>\n      <th>priority</th>\n    </tr>\n  </thead>\n  <tbody>\n    <tr>\n      <th>a</th>\n      <td>cat</td>\n      <td>2.5</td>\n      <td>1</td>\n      <td>yes</td>\n    </tr>\n    <tr>\n      <th>b</th>\n      <td>cat</td>\n      <td>3.0</td>\n      <td>3</td>\n      <td>yes</td>\n    </tr>\n    <tr>\n      <th>c</th>\n      <td>snake</td>\n      <td>0.5</td>\n      <td>2</td>\n      <td>no</td>\n    </tr>\n  </tbody>\n</table>\n</div>"
     },
     "execution_count": 6,
     "metadata": {},
     "output_type": "execute_result"
    }
   ],
   "source": [
    "df.iloc[:3]\n",
    "\n",
    "# or equivalently\n",
    "\n",
    "df.head(3)"
   ],
   "metadata": {
    "collapsed": false,
    "pycharm": {
     "name": "#%%\n"
    }
   }
  },
  {
   "cell_type": "markdown",
   "source": [
    "**7.** Select just the 'animal' and 'age' columns from the DataFrame `df`."
   ],
   "metadata": {
    "collapsed": false
   }
  },
  {
   "cell_type": "code",
   "execution_count": 7,
   "outputs": [
    {
     "data": {
      "text/plain": "  animal  age\na    cat  2.5\nb    cat  3.0\nc  snake  0.5\nd    dog  NaN\ne    dog  5.0\nf    cat  2.0\ng  snake  4.5\nh    cat  NaN\ni    dog  7.0\nj    dog  3.0",
      "text/html": "<div>\n<style scoped>\n    .dataframe tbody tr th:only-of-type {\n        vertical-align: middle;\n    }\n\n    .dataframe tbody tr th {\n        vertical-align: top;\n    }\n\n    .dataframe thead th {\n        text-align: right;\n    }\n</style>\n<table border=\"1\" class=\"dataframe\">\n  <thead>\n    <tr style=\"text-align: right;\">\n      <th></th>\n      <th>animal</th>\n      <th>age</th>\n    </tr>\n  </thead>\n  <tbody>\n    <tr>\n      <th>a</th>\n      <td>cat</td>\n      <td>2.5</td>\n    </tr>\n    <tr>\n      <th>b</th>\n      <td>cat</td>\n      <td>3.0</td>\n    </tr>\n    <tr>\n      <th>c</th>\n      <td>snake</td>\n      <td>0.5</td>\n    </tr>\n    <tr>\n      <th>d</th>\n      <td>dog</td>\n      <td>NaN</td>\n    </tr>\n    <tr>\n      <th>e</th>\n      <td>dog</td>\n      <td>5.0</td>\n    </tr>\n    <tr>\n      <th>f</th>\n      <td>cat</td>\n      <td>2.0</td>\n    </tr>\n    <tr>\n      <th>g</th>\n      <td>snake</td>\n      <td>4.5</td>\n    </tr>\n    <tr>\n      <th>h</th>\n      <td>cat</td>\n      <td>NaN</td>\n    </tr>\n    <tr>\n      <th>i</th>\n      <td>dog</td>\n      <td>7.0</td>\n    </tr>\n    <tr>\n      <th>j</th>\n      <td>dog</td>\n      <td>3.0</td>\n    </tr>\n  </tbody>\n</table>\n</div>"
     },
     "execution_count": 7,
     "metadata": {},
     "output_type": "execute_result"
    }
   ],
   "source": [
    "df.loc[:, ['animal', 'age']]\n",
    "\n",
    "# or\n",
    "\n",
    "df[['animal', 'age']]"
   ],
   "metadata": {
    "collapsed": false,
    "pycharm": {
     "name": "#%%\n"
    }
   }
  },
  {
   "cell_type": "markdown",
   "source": [
    "**8.** Select the data in rows `[3, 4, 8]` *and* in columns `['animal', 'age']`."
   ],
   "metadata": {
    "collapsed": false
   }
  },
  {
   "cell_type": "code",
   "execution_count": 8,
   "outputs": [
    {
     "data": {
      "text/plain": "  animal  age\nd    dog  NaN\ne    dog  5.0\ni    dog  7.0",
      "text/html": "<div>\n<style scoped>\n    .dataframe tbody tr th:only-of-type {\n        vertical-align: middle;\n    }\n\n    .dataframe tbody tr th {\n        vertical-align: top;\n    }\n\n    .dataframe thead th {\n        text-align: right;\n    }\n</style>\n<table border=\"1\" class=\"dataframe\">\n  <thead>\n    <tr style=\"text-align: right;\">\n      <th></th>\n      <th>animal</th>\n      <th>age</th>\n    </tr>\n  </thead>\n  <tbody>\n    <tr>\n      <th>d</th>\n      <td>dog</td>\n      <td>NaN</td>\n    </tr>\n    <tr>\n      <th>e</th>\n      <td>dog</td>\n      <td>5.0</td>\n    </tr>\n    <tr>\n      <th>i</th>\n      <td>dog</td>\n      <td>7.0</td>\n    </tr>\n  </tbody>\n</table>\n</div>"
     },
     "execution_count": 8,
     "metadata": {},
     "output_type": "execute_result"
    }
   ],
   "source": [
    "df.loc[df.index[[3, 4, 8]], ['animal', 'age']]"
   ],
   "metadata": {
    "collapsed": false,
    "pycharm": {
     "name": "#%%\n"
    }
   }
  },
  {
   "cell_type": "markdown",
   "source": [
    "**9.** Select only the rows where the number of visits is greater than 2."
   ],
   "metadata": {
    "collapsed": false
   }
  },
  {
   "cell_type": "code",
   "execution_count": 9,
   "outputs": [
    {
     "data": {
      "text/plain": "  animal  age  visits priority\nb    cat  3.0       3      yes\nd    dog  NaN       3      yes\nf    cat  2.0       3       no",
      "text/html": "<div>\n<style scoped>\n    .dataframe tbody tr th:only-of-type {\n        vertical-align: middle;\n    }\n\n    .dataframe tbody tr th {\n        vertical-align: top;\n    }\n\n    .dataframe thead th {\n        text-align: right;\n    }\n</style>\n<table border=\"1\" class=\"dataframe\">\n  <thead>\n    <tr style=\"text-align: right;\">\n      <th></th>\n      <th>animal</th>\n      <th>age</th>\n      <th>visits</th>\n      <th>priority</th>\n    </tr>\n  </thead>\n  <tbody>\n    <tr>\n      <th>b</th>\n      <td>cat</td>\n      <td>3.0</td>\n      <td>3</td>\n      <td>yes</td>\n    </tr>\n    <tr>\n      <th>d</th>\n      <td>dog</td>\n      <td>NaN</td>\n      <td>3</td>\n      <td>yes</td>\n    </tr>\n    <tr>\n      <th>f</th>\n      <td>cat</td>\n      <td>2.0</td>\n      <td>3</td>\n      <td>no</td>\n    </tr>\n  </tbody>\n</table>\n</div>"
     },
     "execution_count": 9,
     "metadata": {},
     "output_type": "execute_result"
    }
   ],
   "source": [
    "df[df['visits'] > 2]"
   ],
   "metadata": {
    "collapsed": false,
    "pycharm": {
     "name": "#%%\n"
    }
   }
  },
  {
   "cell_type": "markdown",
   "source": [
    "**10.** Select the rows where the age is missing, i.e. it is `NaN`."
   ],
   "metadata": {
    "collapsed": false
   }
  },
  {
   "cell_type": "code",
   "execution_count": 10,
   "outputs": [
    {
     "data": {
      "text/plain": "  animal  age  visits priority\nd    dog  NaN       3      yes\nh    cat  NaN       1      yes",
      "text/html": "<div>\n<style scoped>\n    .dataframe tbody tr th:only-of-type {\n        vertical-align: middle;\n    }\n\n    .dataframe tbody tr th {\n        vertical-align: top;\n    }\n\n    .dataframe thead th {\n        text-align: right;\n    }\n</style>\n<table border=\"1\" class=\"dataframe\">\n  <thead>\n    <tr style=\"text-align: right;\">\n      <th></th>\n      <th>animal</th>\n      <th>age</th>\n      <th>visits</th>\n      <th>priority</th>\n    </tr>\n  </thead>\n  <tbody>\n    <tr>\n      <th>d</th>\n      <td>dog</td>\n      <td>NaN</td>\n      <td>3</td>\n      <td>yes</td>\n    </tr>\n    <tr>\n      <th>h</th>\n      <td>cat</td>\n      <td>NaN</td>\n      <td>1</td>\n      <td>yes</td>\n    </tr>\n  </tbody>\n</table>\n</div>"
     },
     "execution_count": 10,
     "metadata": {},
     "output_type": "execute_result"
    }
   ],
   "source": [
    "df[df['age'].isnull()]\n"
   ],
   "metadata": {
    "collapsed": false,
    "pycharm": {
     "name": "#%%\n"
    }
   }
  },
  {
   "cell_type": "markdown",
   "source": [
    "**11.** Select the rows where the animal is a cat *and* the age is less than 3."
   ],
   "metadata": {
    "collapsed": false
   }
  },
  {
   "cell_type": "code",
   "execution_count": 11,
   "outputs": [
    {
     "data": {
      "text/plain": "  animal  age  visits priority\na    cat  2.5       1      yes\nf    cat  2.0       3       no",
      "text/html": "<div>\n<style scoped>\n    .dataframe tbody tr th:only-of-type {\n        vertical-align: middle;\n    }\n\n    .dataframe tbody tr th {\n        vertical-align: top;\n    }\n\n    .dataframe thead th {\n        text-align: right;\n    }\n</style>\n<table border=\"1\" class=\"dataframe\">\n  <thead>\n    <tr style=\"text-align: right;\">\n      <th></th>\n      <th>animal</th>\n      <th>age</th>\n      <th>visits</th>\n      <th>priority</th>\n    </tr>\n  </thead>\n  <tbody>\n    <tr>\n      <th>a</th>\n      <td>cat</td>\n      <td>2.5</td>\n      <td>1</td>\n      <td>yes</td>\n    </tr>\n    <tr>\n      <th>f</th>\n      <td>cat</td>\n      <td>2.0</td>\n      <td>3</td>\n      <td>no</td>\n    </tr>\n  </tbody>\n</table>\n</div>"
     },
     "execution_count": 11,
     "metadata": {},
     "output_type": "execute_result"
    }
   ],
   "source": [
    "df[(df['animal'] == 'cat') & (df['age'] < 3)]"
   ],
   "metadata": {
    "collapsed": false,
    "pycharm": {
     "name": "#%%\n"
    }
   }
  },
  {
   "cell_type": "markdown",
   "source": [
    "**12.** Select the rows the age is between 2 and 4 (inclusive)."
   ],
   "metadata": {
    "collapsed": false
   }
  },
  {
   "cell_type": "code",
   "execution_count": 12,
   "outputs": [
    {
     "data": {
      "text/plain": "  animal  age  visits priority\na    cat  2.5       1      yes\nb    cat  3.0       3      yes\nf    cat  2.0       3       no\nj    dog  3.0       1       no",
      "text/html": "<div>\n<style scoped>\n    .dataframe tbody tr th:only-of-type {\n        vertical-align: middle;\n    }\n\n    .dataframe tbody tr th {\n        vertical-align: top;\n    }\n\n    .dataframe thead th {\n        text-align: right;\n    }\n</style>\n<table border=\"1\" class=\"dataframe\">\n  <thead>\n    <tr style=\"text-align: right;\">\n      <th></th>\n      <th>animal</th>\n      <th>age</th>\n      <th>visits</th>\n      <th>priority</th>\n    </tr>\n  </thead>\n  <tbody>\n    <tr>\n      <th>a</th>\n      <td>cat</td>\n      <td>2.5</td>\n      <td>1</td>\n      <td>yes</td>\n    </tr>\n    <tr>\n      <th>b</th>\n      <td>cat</td>\n      <td>3.0</td>\n      <td>3</td>\n      <td>yes</td>\n    </tr>\n    <tr>\n      <th>f</th>\n      <td>cat</td>\n      <td>2.0</td>\n      <td>3</td>\n      <td>no</td>\n    </tr>\n    <tr>\n      <th>j</th>\n      <td>dog</td>\n      <td>3.0</td>\n      <td>1</td>\n      <td>no</td>\n    </tr>\n  </tbody>\n</table>\n</div>"
     },
     "execution_count": 12,
     "metadata": {},
     "output_type": "execute_result"
    }
   ],
   "source": [
    "df[df['age'].between(2, 4)]"
   ],
   "metadata": {
    "collapsed": false,
    "pycharm": {
     "name": "#%%\n"
    }
   }
  },
  {
   "cell_type": "markdown",
   "source": [
    "**13.** Change the age in row 'f' to 1.5."
   ],
   "metadata": {
    "collapsed": false
   }
  },
  {
   "cell_type": "code",
   "execution_count": 13,
   "outputs": [
    {
     "data": {
      "text/plain": "  animal  age  visits priority\na    cat  2.5       1      yes\nb    cat  3.0       3      yes\nc  snake  0.5       2       no\nd    dog  NaN       3      yes\ne    dog  5.0       2       no\nf    cat  1.5       3       no\ng  snake  4.5       1       no\nh    cat  NaN       1      yes\ni    dog  7.0       2       no\nj    dog  3.0       1       no",
      "text/html": "<div>\n<style scoped>\n    .dataframe tbody tr th:only-of-type {\n        vertical-align: middle;\n    }\n\n    .dataframe tbody tr th {\n        vertical-align: top;\n    }\n\n    .dataframe thead th {\n        text-align: right;\n    }\n</style>\n<table border=\"1\" class=\"dataframe\">\n  <thead>\n    <tr style=\"text-align: right;\">\n      <th></th>\n      <th>animal</th>\n      <th>age</th>\n      <th>visits</th>\n      <th>priority</th>\n    </tr>\n  </thead>\n  <tbody>\n    <tr>\n      <th>a</th>\n      <td>cat</td>\n      <td>2.5</td>\n      <td>1</td>\n      <td>yes</td>\n    </tr>\n    <tr>\n      <th>b</th>\n      <td>cat</td>\n      <td>3.0</td>\n      <td>3</td>\n      <td>yes</td>\n    </tr>\n    <tr>\n      <th>c</th>\n      <td>snake</td>\n      <td>0.5</td>\n      <td>2</td>\n      <td>no</td>\n    </tr>\n    <tr>\n      <th>d</th>\n      <td>dog</td>\n      <td>NaN</td>\n      <td>3</td>\n      <td>yes</td>\n    </tr>\n    <tr>\n      <th>e</th>\n      <td>dog</td>\n      <td>5.0</td>\n      <td>2</td>\n      <td>no</td>\n    </tr>\n    <tr>\n      <th>f</th>\n      <td>cat</td>\n      <td>1.5</td>\n      <td>3</td>\n      <td>no</td>\n    </tr>\n    <tr>\n      <th>g</th>\n      <td>snake</td>\n      <td>4.5</td>\n      <td>1</td>\n      <td>no</td>\n    </tr>\n    <tr>\n      <th>h</th>\n      <td>cat</td>\n      <td>NaN</td>\n      <td>1</td>\n      <td>yes</td>\n    </tr>\n    <tr>\n      <th>i</th>\n      <td>dog</td>\n      <td>7.0</td>\n      <td>2</td>\n      <td>no</td>\n    </tr>\n    <tr>\n      <th>j</th>\n      <td>dog</td>\n      <td>3.0</td>\n      <td>1</td>\n      <td>no</td>\n    </tr>\n  </tbody>\n</table>\n</div>"
     },
     "execution_count": 13,
     "metadata": {},
     "output_type": "execute_result"
    }
   ],
   "source": [
    "df.loc['f', 'age'] = 1.5\n",
    "df"
   ],
   "metadata": {
    "collapsed": false,
    "pycharm": {
     "name": "#%%\n"
    }
   }
  },
  {
   "cell_type": "markdown",
   "source": [
    "**14.** Calculate the sum of all visits in `df` (i.e. the total number of visits)."
   ],
   "metadata": {
    "collapsed": false
   }
  },
  {
   "cell_type": "code",
   "execution_count": 14,
   "outputs": [
    {
     "data": {
      "text/plain": "19"
     },
     "execution_count": 14,
     "metadata": {},
     "output_type": "execute_result"
    }
   ],
   "source": [
    "df['visits'].sum()"
   ],
   "metadata": {
    "collapsed": false,
    "pycharm": {
     "name": "#%%\n"
    }
   }
  },
  {
   "cell_type": "markdown",
   "source": [
    "**15.** Calculate the mean age for each different animal in `df`."
   ],
   "metadata": {
    "collapsed": false
   }
  },
  {
   "cell_type": "code",
   "execution_count": 15,
   "outputs": [
    {
     "data": {
      "text/plain": "animal\ncat      2.333333\ndog      5.000000\nsnake    2.500000\nName: age, dtype: float64"
     },
     "execution_count": 15,
     "metadata": {},
     "output_type": "execute_result"
    }
   ],
   "source": [
    "df.groupby('animal')['age'].mean()"
   ],
   "metadata": {
    "collapsed": false,
    "pycharm": {
     "name": "#%%\n"
    }
   }
  },
  {
   "cell_type": "markdown",
   "source": [
    "**16.** Append a new row 'k' to `df` with your choice of values for each column. Then delete that row to return the original DataFrame."
   ],
   "metadata": {
    "collapsed": false
   }
  },
  {
   "cell_type": "code",
   "execution_count": 16,
   "outputs": [
    {
     "data": {
      "text/plain": "  animal  age  visits priority\na    cat  2.5       1      yes\nb    cat  3.0       3      yes\nc  snake  0.5       2       no\nd    dog  NaN       3      yes\ne    dog  5.0       2       no\nf    cat  1.5       3       no\ng  snake  4.5       1       no\nh    cat  NaN       1      yes\ni    dog  7.0       2       no\nj    dog  3.0       1       no",
      "text/html": "<div>\n<style scoped>\n    .dataframe tbody tr th:only-of-type {\n        vertical-align: middle;\n    }\n\n    .dataframe tbody tr th {\n        vertical-align: top;\n    }\n\n    .dataframe thead th {\n        text-align: right;\n    }\n</style>\n<table border=\"1\" class=\"dataframe\">\n  <thead>\n    <tr style=\"text-align: right;\">\n      <th></th>\n      <th>animal</th>\n      <th>age</th>\n      <th>visits</th>\n      <th>priority</th>\n    </tr>\n  </thead>\n  <tbody>\n    <tr>\n      <th>a</th>\n      <td>cat</td>\n      <td>2.5</td>\n      <td>1</td>\n      <td>yes</td>\n    </tr>\n    <tr>\n      <th>b</th>\n      <td>cat</td>\n      <td>3.0</td>\n      <td>3</td>\n      <td>yes</td>\n    </tr>\n    <tr>\n      <th>c</th>\n      <td>snake</td>\n      <td>0.5</td>\n      <td>2</td>\n      <td>no</td>\n    </tr>\n    <tr>\n      <th>d</th>\n      <td>dog</td>\n      <td>NaN</td>\n      <td>3</td>\n      <td>yes</td>\n    </tr>\n    <tr>\n      <th>e</th>\n      <td>dog</td>\n      <td>5.0</td>\n      <td>2</td>\n      <td>no</td>\n    </tr>\n    <tr>\n      <th>f</th>\n      <td>cat</td>\n      <td>1.5</td>\n      <td>3</td>\n      <td>no</td>\n    </tr>\n    <tr>\n      <th>g</th>\n      <td>snake</td>\n      <td>4.5</td>\n      <td>1</td>\n      <td>no</td>\n    </tr>\n    <tr>\n      <th>h</th>\n      <td>cat</td>\n      <td>NaN</td>\n      <td>1</td>\n      <td>yes</td>\n    </tr>\n    <tr>\n      <th>i</th>\n      <td>dog</td>\n      <td>7.0</td>\n      <td>2</td>\n      <td>no</td>\n    </tr>\n    <tr>\n      <th>j</th>\n      <td>dog</td>\n      <td>3.0</td>\n      <td>1</td>\n      <td>no</td>\n    </tr>\n  </tbody>\n</table>\n</div>"
     },
     "execution_count": 16,
     "metadata": {},
     "output_type": "execute_result"
    }
   ],
   "source": [
    "df.loc['k'] = ['dog', 5.5, 2, 'no']\n",
    "# and then deleting the new row...\n",
    "df = df.drop('k')\n",
    "df"
   ],
   "metadata": {
    "collapsed": false,
    "pycharm": {
     "name": "#%%\n"
    }
   }
  },
  {
   "cell_type": "markdown",
   "source": [
    "**17.** Count the number of each type of animal in `df`."
   ],
   "metadata": {
    "collapsed": false
   }
  },
  {
   "cell_type": "code",
   "execution_count": 17,
   "outputs": [
    {
     "name": "stdout",
     "output_type": "stream",
     "text": [
      "animal       object\n",
      "age         float64\n",
      "visits        int64\n",
      "priority     object\n",
      "dtype: object\n"
     ]
    },
    {
     "data": {
      "text/plain": "cat      4\ndog      4\nsnake    2\nName: animal, dtype: int64"
     },
     "execution_count": 17,
     "metadata": {},
     "output_type": "execute_result"
    }
   ],
   "source": [
    "print(df.dtypes)\n",
    "df['animal'].value_counts()"
   ],
   "metadata": {
    "collapsed": false,
    "pycharm": {
     "name": "#%%\n"
    }
   }
  },
  {
   "cell_type": "markdown",
   "source": [
    "**18.** Sort `df` first by the values in the 'age' in *decending* order, then by the value in the 'visit' column in *ascending* order (so row `i` should be first, and row `d` should be last)."
   ],
   "metadata": {
    "collapsed": false
   }
  },
  {
   "cell_type": "code",
   "execution_count": 18,
   "outputs": [
    {
     "data": {
      "text/plain": "  animal  age  visits priority\ni    dog  7.0       2       no\ne    dog  5.0       2       no\ng  snake  4.5       1       no\nj    dog  3.0       1       no\nb    cat  3.0       3      yes\na    cat  2.5       1      yes\nf    cat  1.5       3       no\nc  snake  0.5       2       no\nh    cat  NaN       1      yes\nd    dog  NaN       3      yes",
      "text/html": "<div>\n<style scoped>\n    .dataframe tbody tr th:only-of-type {\n        vertical-align: middle;\n    }\n\n    .dataframe tbody tr th {\n        vertical-align: top;\n    }\n\n    .dataframe thead th {\n        text-align: right;\n    }\n</style>\n<table border=\"1\" class=\"dataframe\">\n  <thead>\n    <tr style=\"text-align: right;\">\n      <th></th>\n      <th>animal</th>\n      <th>age</th>\n      <th>visits</th>\n      <th>priority</th>\n    </tr>\n  </thead>\n  <tbody>\n    <tr>\n      <th>i</th>\n      <td>dog</td>\n      <td>7.0</td>\n      <td>2</td>\n      <td>no</td>\n    </tr>\n    <tr>\n      <th>e</th>\n      <td>dog</td>\n      <td>5.0</td>\n      <td>2</td>\n      <td>no</td>\n    </tr>\n    <tr>\n      <th>g</th>\n      <td>snake</td>\n      <td>4.5</td>\n      <td>1</td>\n      <td>no</td>\n    </tr>\n    <tr>\n      <th>j</th>\n      <td>dog</td>\n      <td>3.0</td>\n      <td>1</td>\n      <td>no</td>\n    </tr>\n    <tr>\n      <th>b</th>\n      <td>cat</td>\n      <td>3.0</td>\n      <td>3</td>\n      <td>yes</td>\n    </tr>\n    <tr>\n      <th>a</th>\n      <td>cat</td>\n      <td>2.5</td>\n      <td>1</td>\n      <td>yes</td>\n    </tr>\n    <tr>\n      <th>f</th>\n      <td>cat</td>\n      <td>1.5</td>\n      <td>3</td>\n      <td>no</td>\n    </tr>\n    <tr>\n      <th>c</th>\n      <td>snake</td>\n      <td>0.5</td>\n      <td>2</td>\n      <td>no</td>\n    </tr>\n    <tr>\n      <th>h</th>\n      <td>cat</td>\n      <td>NaN</td>\n      <td>1</td>\n      <td>yes</td>\n    </tr>\n    <tr>\n      <th>d</th>\n      <td>dog</td>\n      <td>NaN</td>\n      <td>3</td>\n      <td>yes</td>\n    </tr>\n  </tbody>\n</table>\n</div>"
     },
     "execution_count": 18,
     "metadata": {},
     "output_type": "execute_result"
    }
   ],
   "source": [
    "df.sort_values(by=['age', 'visits'], ascending=[False, True])"
   ],
   "metadata": {
    "collapsed": false,
    "pycharm": {
     "name": "#%%\n"
    }
   }
  },
  {
   "cell_type": "markdown",
   "source": [
    "**19.** The 'priority' column contains the values 'yes' and 'no'. Replace this column with a column of boolean values: 'yes' should be `True` and 'no' should be `False`."
   ],
   "metadata": {
    "collapsed": false
   }
  },
  {
   "cell_type": "code",
   "execution_count": 19,
   "outputs": [
    {
     "name": "stdout",
     "output_type": "stream",
     "text": [
      "  animal  age  visits priority\n",
      "a    cat  2.5       1      yes\n",
      "b    cat  3.0       3      yes\n",
      "c  snake  0.5       2       no\n",
      "d    dog  NaN       3      yes\n",
      "e    dog  5.0       2       no\n",
      "f    cat  1.5       3       no\n",
      "g  snake  4.5       1       no\n",
      "h    cat  NaN       1      yes\n",
      "i    dog  7.0       2       no\n",
      "j    dog  3.0       1       no\n",
      "  animal  age  visits  priority\n",
      "a    cat  2.5       1      True\n",
      "b    cat  3.0       3      True\n",
      "c  snake  0.5       2     False\n",
      "d    dog  NaN       3      True\n",
      "e    dog  5.0       2     False\n",
      "f    cat  1.5       3     False\n",
      "g  snake  4.5       1     False\n",
      "h    cat  NaN       1      True\n",
      "i    dog  7.0       2     False\n",
      "j    dog  3.0       1     False\n",
      "  animal  age  visits  priority\n",
      "a    cat  2.5       1      True\n",
      "b    cat  3.0       3      True\n",
      "c  snake  0.5       2     False\n",
      "d    dog  NaN       3      True\n",
      "e    dog  5.0       2     False\n",
      "f    cat  1.5       3     False\n",
      "g  snake  4.5       1     False\n",
      "h    cat  NaN       1      True\n",
      "i    dog  7.0       2     False\n",
      "j    dog  3.0       1     False\n"
     ]
    },
    {
     "data": {
      "text/plain": "  animal  age  visits  priority\na    cat  2.5       1      True\nb    cat  3.0       3      True\nc  snake  0.5       2     False\nd    dog  NaN       3      True\ne    dog  5.0       2     False\nf    cat  1.5       3     False\ng  snake  4.5       1     False\nh    cat  NaN       1      True\ni    dog  7.0       2     False\nj    dog  3.0       1     False",
      "text/html": "<div>\n<style scoped>\n    .dataframe tbody tr th:only-of-type {\n        vertical-align: middle;\n    }\n\n    .dataframe tbody tr th {\n        vertical-align: top;\n    }\n\n    .dataframe thead th {\n        text-align: right;\n    }\n</style>\n<table border=\"1\" class=\"dataframe\">\n  <thead>\n    <tr style=\"text-align: right;\">\n      <th></th>\n      <th>animal</th>\n      <th>age</th>\n      <th>visits</th>\n      <th>priority</th>\n    </tr>\n  </thead>\n  <tbody>\n    <tr>\n      <th>a</th>\n      <td>cat</td>\n      <td>2.5</td>\n      <td>1</td>\n      <td>True</td>\n    </tr>\n    <tr>\n      <th>b</th>\n      <td>cat</td>\n      <td>3.0</td>\n      <td>3</td>\n      <td>True</td>\n    </tr>\n    <tr>\n      <th>c</th>\n      <td>snake</td>\n      <td>0.5</td>\n      <td>2</td>\n      <td>False</td>\n    </tr>\n    <tr>\n      <th>d</th>\n      <td>dog</td>\n      <td>NaN</td>\n      <td>3</td>\n      <td>True</td>\n    </tr>\n    <tr>\n      <th>e</th>\n      <td>dog</td>\n      <td>5.0</td>\n      <td>2</td>\n      <td>False</td>\n    </tr>\n    <tr>\n      <th>f</th>\n      <td>cat</td>\n      <td>1.5</td>\n      <td>3</td>\n      <td>False</td>\n    </tr>\n    <tr>\n      <th>g</th>\n      <td>snake</td>\n      <td>4.5</td>\n      <td>1</td>\n      <td>False</td>\n    </tr>\n    <tr>\n      <th>h</th>\n      <td>cat</td>\n      <td>NaN</td>\n      <td>1</td>\n      <td>True</td>\n    </tr>\n    <tr>\n      <th>i</th>\n      <td>dog</td>\n      <td>7.0</td>\n      <td>2</td>\n      <td>False</td>\n    </tr>\n    <tr>\n      <th>j</th>\n      <td>dog</td>\n      <td>3.0</td>\n      <td>1</td>\n      <td>False</td>\n    </tr>\n  </tbody>\n</table>\n</div>"
     },
     "execution_count": 19,
     "metadata": {},
     "output_type": "execute_result"
    }
   ],
   "source": [
    "def our_mapping(x):\n",
    "    if x == \"yes\":\n",
    "        return True\n",
    "    return False\n",
    "df_copy1 = df.copy()\n",
    "df_copy2 = df.copy()\n",
    "print(df)\n",
    "df['priority'] = df['priority'].replace([\"yes\", \"no\"], [True, False])\n",
    "print(df)\n",
    "df_copy1['priority'] = df_copy1['priority'].map({'yes': True, 'no': False})\n",
    "print(df)\n",
    "df_copy2['priority'] = df_copy2['priority'].map(our_mapping)\n",
    "df_copy2"
   ],
   "metadata": {
    "collapsed": false,
    "pycharm": {
     "name": "#%%\n"
    }
   }
  },
  {
   "cell_type": "markdown",
   "source": [
    "**20.** In the 'animal' column, change the 'snake' entries to 'python'."
   ],
   "metadata": {
    "collapsed": false
   }
  },
  {
   "cell_type": "code",
   "execution_count": 20,
   "outputs": [
    {
     "data": {
      "text/plain": "   animal  age  visits  priority\na     cat  2.5       1      True\nb     cat  3.0       3      True\nc  python  0.5       2     False\nd     dog  NaN       3      True\ne     dog  5.0       2     False\nf     cat  1.5       3     False\ng  python  4.5       1     False\nh     cat  NaN       1      True\ni     dog  7.0       2     False\nj     dog  3.0       1     False",
      "text/html": "<div>\n<style scoped>\n    .dataframe tbody tr th:only-of-type {\n        vertical-align: middle;\n    }\n\n    .dataframe tbody tr th {\n        vertical-align: top;\n    }\n\n    .dataframe thead th {\n        text-align: right;\n    }\n</style>\n<table border=\"1\" class=\"dataframe\">\n  <thead>\n    <tr style=\"text-align: right;\">\n      <th></th>\n      <th>animal</th>\n      <th>age</th>\n      <th>visits</th>\n      <th>priority</th>\n    </tr>\n  </thead>\n  <tbody>\n    <tr>\n      <th>a</th>\n      <td>cat</td>\n      <td>2.5</td>\n      <td>1</td>\n      <td>True</td>\n    </tr>\n    <tr>\n      <th>b</th>\n      <td>cat</td>\n      <td>3.0</td>\n      <td>3</td>\n      <td>True</td>\n    </tr>\n    <tr>\n      <th>c</th>\n      <td>python</td>\n      <td>0.5</td>\n      <td>2</td>\n      <td>False</td>\n    </tr>\n    <tr>\n      <th>d</th>\n      <td>dog</td>\n      <td>NaN</td>\n      <td>3</td>\n      <td>True</td>\n    </tr>\n    <tr>\n      <th>e</th>\n      <td>dog</td>\n      <td>5.0</td>\n      <td>2</td>\n      <td>False</td>\n    </tr>\n    <tr>\n      <th>f</th>\n      <td>cat</td>\n      <td>1.5</td>\n      <td>3</td>\n      <td>False</td>\n    </tr>\n    <tr>\n      <th>g</th>\n      <td>python</td>\n      <td>4.5</td>\n      <td>1</td>\n      <td>False</td>\n    </tr>\n    <tr>\n      <th>h</th>\n      <td>cat</td>\n      <td>NaN</td>\n      <td>1</td>\n      <td>True</td>\n    </tr>\n    <tr>\n      <th>i</th>\n      <td>dog</td>\n      <td>7.0</td>\n      <td>2</td>\n      <td>False</td>\n    </tr>\n    <tr>\n      <th>j</th>\n      <td>dog</td>\n      <td>3.0</td>\n      <td>1</td>\n      <td>False</td>\n    </tr>\n  </tbody>\n</table>\n</div>"
     },
     "execution_count": 20,
     "metadata": {},
     "output_type": "execute_result"
    }
   ],
   "source": [
    "df['animal'] = df['animal'].replace('snake', 'python')\n",
    "df"
   ],
   "metadata": {
    "collapsed": false,
    "pycharm": {
     "name": "#%%\n"
    }
   }
  },
  {
   "cell_type": "markdown",
   "source": [
    "**21.** For each animal type and each number of visits, find the mean age. In other words, each row is an animal, each column is a number of visits and the values are the mean ages (*hint: use a pivot table*)."
   ],
   "metadata": {
    "collapsed": false
   }
  },
  {
   "cell_type": "code",
   "execution_count": 21,
   "outputs": [
    {
     "data": {
      "text/plain": "visits    1    2     3\nanimal                \ncat     2.5  NaN  2.25\ndog     3.0  6.0   NaN\npython  4.5  0.5   NaN",
      "text/html": "<div>\n<style scoped>\n    .dataframe tbody tr th:only-of-type {\n        vertical-align: middle;\n    }\n\n    .dataframe tbody tr th {\n        vertical-align: top;\n    }\n\n    .dataframe thead th {\n        text-align: right;\n    }\n</style>\n<table border=\"1\" class=\"dataframe\">\n  <thead>\n    <tr style=\"text-align: right;\">\n      <th>visits</th>\n      <th>1</th>\n      <th>2</th>\n      <th>3</th>\n    </tr>\n    <tr>\n      <th>animal</th>\n      <th></th>\n      <th></th>\n      <th></th>\n    </tr>\n  </thead>\n  <tbody>\n    <tr>\n      <th>cat</th>\n      <td>2.5</td>\n      <td>NaN</td>\n      <td>2.25</td>\n    </tr>\n    <tr>\n      <th>dog</th>\n      <td>3.0</td>\n      <td>6.0</td>\n      <td>NaN</td>\n    </tr>\n    <tr>\n      <th>python</th>\n      <td>4.5</td>\n      <td>0.5</td>\n      <td>NaN</td>\n    </tr>\n  </tbody>\n</table>\n</div>"
     },
     "execution_count": 21,
     "metadata": {},
     "output_type": "execute_result"
    }
   ],
   "source": [
    "df.pivot_table(index='animal', columns='visits', values='age', aggfunc='mean')\n"
   ],
   "metadata": {
    "collapsed": false,
    "pycharm": {
     "name": "#%%\n"
    }
   }
  },
  {
   "cell_type": "markdown",
   "source": [
    "## DataFrames: beyond the basics\n",
    "\n",
    "### Slightly trickier: you may need to combine two or more methods to get the right answer\n",
    "\n",
    "Difficulty: *medium*\n",
    "\n",
    "The previous section was tour through some basic but essential DataFrame operations. Below are some ways that you might need to cut your data, but for which there is no single \"out of the box\" method."
   ],
   "metadata": {
    "collapsed": false
   }
  },
  {
   "cell_type": "markdown",
   "source": [
    "**22.** You have a DataFrame `df` with a column 'A' of integers. For example:\n",
    "```python\n",
    "import pandas as pd\n",
    "df2 = pd.DataFrame({'A': [1, 2, 2, 3, 4, 5, 5, 5, 6, 7, 7]})\n",
    "```\n",
    "\n",
    "How do you filter out rows which contain the same integer as the row immediately above?\n",
    "\n",
    "You should be left with a column containing the following values:\n",
    "\n",
    "```python\n",
    "1, 2, 3, 4, 5, 6, 7\n",
    "```"
   ],
   "metadata": {
    "collapsed": false
   }
  },
  {
   "cell_type": "code",
   "execution_count": 22,
   "outputs": [
    {
     "data": {
      "text/plain": "   A\n0  1\n1  2\n3  3\n4  4\n5  5\n8  6\n9  7",
      "text/html": "<div>\n<style scoped>\n    .dataframe tbody tr th:only-of-type {\n        vertical-align: middle;\n    }\n\n    .dataframe tbody tr th {\n        vertical-align: top;\n    }\n\n    .dataframe thead th {\n        text-align: right;\n    }\n</style>\n<table border=\"1\" class=\"dataframe\">\n  <thead>\n    <tr style=\"text-align: right;\">\n      <th></th>\n      <th>A</th>\n    </tr>\n  </thead>\n  <tbody>\n    <tr>\n      <th>0</th>\n      <td>1</td>\n    </tr>\n    <tr>\n      <th>1</th>\n      <td>2</td>\n    </tr>\n    <tr>\n      <th>3</th>\n      <td>3</td>\n    </tr>\n    <tr>\n      <th>4</th>\n      <td>4</td>\n    </tr>\n    <tr>\n      <th>5</th>\n      <td>5</td>\n    </tr>\n    <tr>\n      <th>8</th>\n      <td>6</td>\n    </tr>\n    <tr>\n      <th>9</th>\n      <td>7</td>\n    </tr>\n  </tbody>\n</table>\n</div>"
     },
     "execution_count": 22,
     "metadata": {},
     "output_type": "execute_result"
    }
   ],
   "source": [
    "df2 = pd.DataFrame({'A': [1, 2, 2, 3, 4, 5, 5, 5, 6, 7, 7]})\n",
    "df2.drop_duplicates(subset='A')"
   ],
   "metadata": {
    "collapsed": false,
    "pycharm": {
     "name": "#%%\n"
    }
   }
  },
  {
   "cell_type": "markdown",
   "source": [
    "**23.** Given a DataFrame of random numeric values:\n",
    "```python\n",
    "import pandas as pd\n",
    "import numpy as np\n",
    "df2 = pd.DataFrame(np.random.random(size=(5, 3))) # this is a 5x3 DataFrame of float values\n",
    "```\n",
    "\n",
    "how do you subtract the row mean from each element in the row?"
   ],
   "metadata": {
    "collapsed": false
   }
  },
  {
   "cell_type": "code",
   "execution_count": 23,
   "outputs": [
    {
     "data": {
      "text/plain": "          0         1         2\n0  0.062385 -0.464099  0.401714\n1 -0.213928  0.137346  0.076582\n2  0.296921 -0.273749 -0.023172\n3  0.103077 -0.102249 -0.000828\n4 -0.039243 -0.097853  0.137096",
      "text/html": "<div>\n<style scoped>\n    .dataframe tbody tr th:only-of-type {\n        vertical-align: middle;\n    }\n\n    .dataframe tbody tr th {\n        vertical-align: top;\n    }\n\n    .dataframe thead th {\n        text-align: right;\n    }\n</style>\n<table border=\"1\" class=\"dataframe\">\n  <thead>\n    <tr style=\"text-align: right;\">\n      <th></th>\n      <th>0</th>\n      <th>1</th>\n      <th>2</th>\n    </tr>\n  </thead>\n  <tbody>\n    <tr>\n      <th>0</th>\n      <td>0.062385</td>\n      <td>-0.464099</td>\n      <td>0.401714</td>\n    </tr>\n    <tr>\n      <th>1</th>\n      <td>-0.213928</td>\n      <td>0.137346</td>\n      <td>0.076582</td>\n    </tr>\n    <tr>\n      <th>2</th>\n      <td>0.296921</td>\n      <td>-0.273749</td>\n      <td>-0.023172</td>\n    </tr>\n    <tr>\n      <th>3</th>\n      <td>0.103077</td>\n      <td>-0.102249</td>\n      <td>-0.000828</td>\n    </tr>\n    <tr>\n      <th>4</th>\n      <td>-0.039243</td>\n      <td>-0.097853</td>\n      <td>0.137096</td>\n    </tr>\n  </tbody>\n</table>\n</div>"
     },
     "execution_count": 23,
     "metadata": {},
     "output_type": "execute_result"
    }
   ],
   "source": [
    "df2 = pd.DataFrame(np.random.random(size=(5, 3)))\n",
    "\n",
    "df2.sub(df2.mean(axis=1), axis=0)"
   ],
   "metadata": {
    "collapsed": false,
    "pycharm": {
     "name": "#%%\n"
    }
   }
  },
  {
   "cell_type": "markdown",
   "source": [
    "**24.** Suppose you have DataFrame with 10 columns of real numbers, for example:\n",
    "\n",
    "```python\n",
    "import pandas as pd\n",
    "import numpy as np\n",
    "df2 = pd.DataFrame(np.random.random(size=(5, 10)), columns=list('abcdefghij'))\n",
    "```\n",
    "Which column of numbers has the smallest sum? Return that column's label."
   ],
   "metadata": {
    "collapsed": false
   }
  },
  {
   "cell_type": "code",
   "execution_count": 24,
   "outputs": [
    {
     "data": {
      "text/plain": "'g'"
     },
     "execution_count": 24,
     "metadata": {},
     "output_type": "execute_result"
    }
   ],
   "source": [
    "df2 = pd.DataFrame(np.random.random(size=(5, 10)), columns=list('abcdefghij'))\n",
    "\n",
    "df2.sum().idxmin()"
   ],
   "metadata": {
    "collapsed": false,
    "pycharm": {
     "name": "#%%\n"
    }
   }
  },
  {
   "cell_type": "markdown",
   "source": [
    "**25.** How do you count how many unique rows a DataFrame has (i.e. ignore all rows that are duplicates)?"
   ],
   "metadata": {
    "collapsed": false
   }
  },
  {
   "cell_type": "code",
   "execution_count": 25,
   "outputs": [
    {
     "data": {
      "text/plain": "1"
     },
     "execution_count": 25,
     "metadata": {},
     "output_type": "execute_result"
    }
   ],
   "source": [
    "df2 = pd.DataFrame(np.random.randint(0, 2, size=(10, 3)))\n",
    "\n",
    "len(df2) - df2.duplicated(keep=False).sum()\n",
    "\n",
    "# or perhaps more simply...\n",
    "\n",
    "len(df2.drop_duplicates(keep=False))"
   ],
   "metadata": {
    "collapsed": false,
    "pycharm": {
     "name": "#%%\n"
    }
   }
  }
 ],
 "metadata": {
  "kernelspec": {
   "display_name": "Python 3",
   "language": "python",
   "name": "python3"
  },
  "language_info": {
   "codemirror_mode": {
    "name": "ipython",
    "version": 3
   },
   "file_extension": ".py",
   "mimetype": "text/x-python",
   "name": "python",
   "nbconvert_exporter": "python",
   "pygments_lexer": "ipython3",
   "version": "3.7.4"
  }
 },
 "nbformat": 4,
 "nbformat_minor": 1
}