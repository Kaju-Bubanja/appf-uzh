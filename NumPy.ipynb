{
 "cells": [
  {
   "cell_type": "markdown",
   "metadata": {},
   "source": [
    "APPF1 | Course Day 1 | 11.05.2018\n",
    "\n",
    "# Storing and Operating on Data with NumPy"
   ]
  },
  {
   "cell_type": "markdown",
   "metadata": {},
   "source": [
    "## NumPy: Numerical Python\n",
    "* NumPy: Python library that adds support for large, multi-dimensional arrays and matrices, along with a large collection of high-level mathematical functions to operate on these arrays\n",
    "* NumPy documentation: https://docs.scipy.org/doc/ \n",
    "  * Use your NumPy version number to access the corresponding documentation"
   ]
  },
  {
   "cell_type": "code",
   "execution_count": 145,
   "metadata": {},
   "outputs": [
    {
     "data": {
      "text/plain": "'1.19.4'"
     },
     "execution_count": 145,
     "metadata": {},
     "output_type": "execute_result"
    }
   ],
   "source": [
    "import numpy as np\n",
    "\n",
    "np.__version__"
   ]
  },
  {
   "cell_type": "markdown",
   "metadata": {},
   "source": [
    "* _Note_: We are going to use the `np` alias for the `numpy` module in all the code samples on the following slides"
   ]
  },
  {
   "cell_type": "markdown",
   "metadata": {},
   "source": [
    "## NumPy Arrays\n",
    "* Python's vanilla lists are heterogeneous: Each item in the list can be of a different data type\n",
    " * Comes at a cost: Each item in the list must contain its own type info and other information \n",
    " * It is much more efficient to store data in a fixed-type array (all elements are of the same type)\n",
    "* NumPy arrays are homogeneous: Each item in the list is of the same type\n",
    " * They are much more efficient for storing and manipulating data\n",
    "\n",
    "## Creating NumPy Arrays\n",
    "* Use the `np.array()` method to create a NumPy array:"
   ]
  },
  {
   "cell_type": "code",
   "execution_count": 202,
   "metadata": {},
   "outputs": [
    {
     "data": {
      "text/plain": "array([0, 1, 2, 5])"
     },
     "execution_count": 202,
     "metadata": {},
     "output_type": "execute_result"
    }
   ],
   "source": [
    "example = np.array([0, 1, 2, 5])\n",
    "example"
   ]
  },
  {
   "cell_type": "markdown",
   "metadata": {},
   "source": [
    "## Multidimensional NumPy Arrays\n",
    "* _One-dimensional_ array: we only need one coordinate to address a single item, namely an integer index\n",
    "* _Multidimensional_ array: we now need multiple indices to address a single item\n",
    " * For an $n$-dimensional array we need up to $n$ indices to address a single item\n",
    " * We're going to mainly work with two-dimensional arrays in this course, i.e. $n=2$ "
   ]
  },
  {
   "cell_type": "code",
   "execution_count": 203,
   "metadata": {},
   "outputs": [
    {
     "data": {
      "text/plain": "array([[1, 2, 3],\n       [4, 5, 6],\n       [7, 8, 9]])"
     },
     "execution_count": 203,
     "metadata": {},
     "output_type": "execute_result"
    }
   ],
   "source": [
    "twodim = np.array([[1, 2, 3],\n",
    "                   [4, 5, 6],\n",
    "                   [7, 8, 9]])\n",
    "twodim"
   ]
  },
  {
   "cell_type": "markdown",
   "metadata": {},
   "source": [
    "## Array Indexing\n",
    "* Array indexing for one-dimensional arrays works as usual: `onedim[0]`\n",
    "* Accessing items in a two-dimensional array requires you to specify two indices: `twodim[0,1]`\n",
    "* First index is the row number (here `0`), second index is the column number (here `1`)\n",
    "\n",
    "## Objects in Python\n",
    "* Almost everything in Python is an object, with its properties and methods\n",
    " * For example, a dictionary is an object that provides an `items()` method, which can only be called on a dictionary object (which is the same as a value of the dictionary type, or a dictionary value)\n",
    "* An object can also provide attributes next to methods, which may describe properties of the specific object\n",
    " * For example, for an array object it might be interesting to see how many elements it contains at the moment, so we might want to provide a size attribute storing information about this specific property\n",
    " \n",
    "### NumPy Array Attributes\n",
    "* The type of a NumPy array is `numpy.ndarray` ($n$-dimensional array):"
   ]
  },
  {
   "cell_type": "code",
   "execution_count": 148,
   "metadata": {},
   "outputs": [
    {
     "data": {
      "text/plain": "numpy.ndarray"
     },
     "execution_count": 148,
     "metadata": {},
     "output_type": "execute_result"
    }
   ],
   "source": [
    "example = np.array([0, 1, 2, 3])\n",
    "type(example)"
   ]
  },
  {
   "cell_type": "markdown",
   "metadata": {},
   "source": [
    "* Useful array attributes\n",
    " * `ndim`: The number of dimensions, e.g. for a two-dimensional array its just 2 \n",
    " * `shape`: Tuple containing the size of each dimension\n",
    " * `size`: The total size of the array (total number of elements)"
   ]
  },
  {
   "cell_type": "code",
   "execution_count": 149,
   "metadata": {},
   "outputs": [
    {
     "name": "stdout",
     "output_type": "stream",
     "text": [
      "x2 ndim:  2\n",
      "x2 shape: (3, 4)\n",
      "x2 size:  12\n",
      "x2 dtype:  int32\n"
     ]
    }
   ],
   "source": [
    "rng = np.random.RandomState(42)  # Ensure that the same random numbers are generated each time we run this code\n",
    "x1 = rng.randint(10, size=6)  # One-dimensional array\n",
    "x2 = rng.randint(10, size=(3, 4))  # Two-dimensional array\n",
    "print(\"x2 ndim: \", x2.ndim)\n",
    "print(\"x2 shape:\", x2.shape)\n",
    "print(\"x2 size: \", x2.size)\n",
    "print(\"x2 dtype: \", x2.dtype)"
   ]
  },
  {
   "cell_type": "markdown",
   "metadata": {},
   "source": [
    "## Creating Arrays from Scratch\n",
    "* NumPy provides a wide range of functions for the creation of arrays:<br>\n",
    "  https://docs.scipy.org/doc/numpy-1.15.4/reference/routines.array-creation.html#routines-array-creation \n",
    " * For example: `np.arange`, `np.zeros`, `np.ones`, `np.linspace`, etc.\n",
    "* NumPy also provides functions to create arrays filled with random data:<br>\n",
    "  https://docs.scipy.org/doc/numpy-1.15.1/reference/routines.random.html\n",
    " * For example: `np.random.random`, `np.random.randint`, etc."
   ]
  },
  {
   "cell_type": "code",
   "execution_count": 150,
   "metadata": {},
   "outputs": [
    {
     "data": {
      "text/plain": "array([0, 0, 0, 0, 0, 0, 0, 0, 0, 0])"
     },
     "execution_count": 150,
     "metadata": {},
     "output_type": "execute_result"
    }
   ],
   "source": [
    "np.zeros(10, dtype=int)"
   ]
  },
  {
   "cell_type": "code",
   "execution_count": 151,
   "metadata": {},
   "outputs": [
    {
     "data": {
      "text/plain": "array([[1., 1., 1., 1., 1.],\n       [1., 1., 1., 1., 1.],\n       [1., 1., 1., 1., 1.]])"
     },
     "execution_count": 151,
     "metadata": {},
     "output_type": "execute_result"
    }
   ],
   "source": [
    "np.ones((3, 5), dtype=float)"
   ]
  },
  {
   "cell_type": "code",
   "execution_count": 152,
   "metadata": {},
   "outputs": [
    {
     "data": {
      "text/plain": "array([[3.14, 3.14, 3.14, 3.14, 3.14],\n       [3.14, 3.14, 3.14, 3.14, 3.14],\n       [3.14, 3.14, 3.14, 3.14, 3.14]])"
     },
     "execution_count": 152,
     "metadata": {},
     "output_type": "execute_result"
    }
   ],
   "source": [
    "np.full((3, 5), 3.14)"
   ]
  },
  {
   "cell_type": "code",
   "execution_count": 153,
   "metadata": {},
   "outputs": [
    {
     "data": {
      "text/plain": "array([ 0,  2,  4,  6,  8, 10, 12, 14, 16, 18])"
     },
     "execution_count": 153,
     "metadata": {},
     "output_type": "execute_result"
    }
   ],
   "source": [
    "np.arange(0, 20, 2)"
   ]
  },
  {
   "cell_type": "code",
   "execution_count": 154,
   "metadata": {},
   "outputs": [
    {
     "data": {
      "text/plain": "array([ 0. ,  2.5,  5. ,  7.5, 10. ])"
     },
     "execution_count": 154,
     "metadata": {},
     "output_type": "execute_result"
    }
   ],
   "source": [
    "np.linspace(0, 10, 5)"
   ]
  },
  {
   "cell_type": "code",
   "execution_count": 155,
   "metadata": {},
   "outputs": [
    {
     "data": {
      "text/plain": "array([[0.54236771, 0.29920876, 0.95070427],\n       [0.26275122, 0.38596501, 0.63038467],\n       [0.36144915, 0.53008594, 0.85251654]])"
     },
     "execution_count": 155,
     "metadata": {},
     "output_type": "execute_result"
    }
   ],
   "source": [
    "np.random.random((3, 3))"
   ]
  },
  {
   "cell_type": "code",
   "execution_count": 156,
   "metadata": {},
   "outputs": [
    {
     "data": {
      "text/plain": "array([[5, 3, 9],\n       [8, 4, 5],\n       [7, 3, 0]])"
     },
     "execution_count": 156,
     "metadata": {},
     "output_type": "execute_result"
    }
   ],
   "source": [
    "np.random.randint(0, 10, (3, 3))"
   ]
  },
  {
   "cell_type": "markdown",
   "metadata": {},
   "source": [
    "## NumPy Data Types\n",
    "* Use the keyword `dtype` to specify the data type of the array elements:"
   ]
  },
  {
   "cell_type": "code",
   "execution_count": 157,
   "metadata": {},
   "outputs": [
    {
     "data": {
      "text/plain": "array([0., 1., 2., 3.], dtype=float32)"
     },
     "execution_count": 157,
     "metadata": {},
     "output_type": "execute_result"
    }
   ],
   "source": [
    "floats = np.array([0, 1, 2, 3], dtype=\"float32\")\n",
    "floats"
   ]
  },
  {
   "cell_type": "markdown",
   "metadata": {},
   "source": [
    " * Overview of available data types: https://docs.scipy.org/doc/numpy-1.15.4/user/basics.types.html "
   ]
  },
  {
   "cell_type": "markdown",
   "metadata": {},
   "source": [
    "## Array Slicing: One-Dimensional Subarrays\n",
    "* The NumPy slicing syntax follows that of the standard Python list: `x[start:stop:step]`"
   ]
  },
  {
   "cell_type": "code",
   "execution_count": 158,
   "metadata": {},
   "outputs": [
    {
     "data": {
      "text/plain": "array([0, 1, 2, 3, 4, 5, 6, 7, 8, 9])"
     },
     "execution_count": 158,
     "metadata": {},
     "output_type": "execute_result"
    }
   ],
   "source": [
    "x = np.arange(10)\n",
    "x"
   ]
  },
  {
   "cell_type": "code",
   "execution_count": 159,
   "metadata": {},
   "outputs": [
    {
     "data": {
      "text/plain": "array([0, 1, 2, 3, 4])"
     },
     "execution_count": 159,
     "metadata": {},
     "output_type": "execute_result"
    }
   ],
   "source": [
    "x[:5]"
   ]
  },
  {
   "cell_type": "code",
   "execution_count": 160,
   "metadata": {},
   "outputs": [
    {
     "data": {
      "text/plain": "array([5, 6, 7, 8, 9])"
     },
     "execution_count": 160,
     "metadata": {},
     "output_type": "execute_result"
    }
   ],
   "source": [
    "x[5:]"
   ]
  },
  {
   "cell_type": "code",
   "execution_count": 161,
   "metadata": {},
   "outputs": [
    {
     "data": {
      "text/plain": "array([9, 8, 7, 6, 5, 4, 3, 2, 1, 0])"
     },
     "execution_count": 161,
     "metadata": {},
     "output_type": "execute_result"
    }
   ],
   "source": [
    "x[::-1]"
   ]
  },
  {
   "cell_type": "markdown",
   "metadata": {},
   "source": [
    "## Array Slicing: Multidimensional Subarrays\n",
    "* Let `x2` be a two-dimensional NumPy array. Multiple slices are now separated by commas: `x2[start:stop:step, start:stop:step]`"
   ]
  },
  {
   "cell_type": "code",
   "execution_count": 162,
   "metadata": {},
   "outputs": [
    {
     "data": {
      "text/plain": "array([[2, 6, 7, 4],\n       [3, 7, 7, 2],\n       [5, 4, 1, 7]])"
     },
     "execution_count": 162,
     "metadata": {},
     "output_type": "execute_result"
    }
   ],
   "source": [
    "x2"
   ]
  },
  {
   "cell_type": "code",
   "execution_count": 163,
   "metadata": {},
   "outputs": [
    {
     "data": {
      "text/plain": "array([[2, 6, 7],\n       [3, 7, 7]])"
     },
     "execution_count": 163,
     "metadata": {},
     "output_type": "execute_result"
    }
   ],
   "source": [
    "x2[:2, :3]"
   ]
  },
  {
   "cell_type": "code",
   "execution_count": 164,
   "metadata": {},
   "outputs": [
    {
     "data": {
      "text/plain": "array([[2, 7],\n       [3, 7],\n       [5, 1]])"
     },
     "execution_count": 164,
     "metadata": {},
     "output_type": "execute_result"
    }
   ],
   "source": [
    "x2[:3, ::2]  # All rows, every other column"
   ]
  },
  {
   "cell_type": "code",
   "execution_count": 165,
   "metadata": {},
   "outputs": [
    {
     "data": {
      "text/plain": "array([2, 3, 5])"
     },
     "execution_count": 165,
     "metadata": {},
     "output_type": "execute_result"
    }
   ],
   "source": [
    "x2[:, 0]  # Select the first column of x2"
   ]
  },
  {
   "cell_type": "code",
   "execution_count": 166,
   "metadata": {},
   "outputs": [
    {
     "data": {
      "text/plain": "array([3, 7, 7, 2])"
     },
     "execution_count": 166,
     "metadata": {},
     "output_type": "execute_result"
    }
   ],
   "source": [
    "x2[1, :]  # Select the second row of x2"
   ]
  },
  {
   "cell_type": "code",
   "execution_count": 167,
   "metadata": {},
   "outputs": [
    {
     "data": {
      "text/plain": "array([3, 7, 7, 2])"
     },
     "execution_count": 167,
     "metadata": {},
     "output_type": "execute_result"
    }
   ],
   "source": [
    "x2[1]  # Select the second row of x2"
   ]
  },
  {
   "cell_type": "markdown",
   "metadata": {},
   "source": [
    "## Array Views and Copies\n",
    "* With Python lists, the slices will be _copies_: If we modify the subarray, only the copy gets changed\n",
    "* With NumPy arrays, the slices will be _direct views_: If we modify the subarray, the original array gets changed, too\n",
    " * Very useful: When working with large datasets, we don't need to copy any data (costly operation)\n",
    "* Creating copies: We can use the `copy()` method of a slice to create a copy of the specific subarray\n",
    " * Note: The type of a slice is again `numpy.ndarray`"
   ]
  },
  {
   "cell_type": "code",
   "execution_count": 168,
   "metadata": {},
   "outputs": [
    {
     "data": {
      "text/plain": "array([[2, 6],\n       [3, 7]])"
     },
     "execution_count": 168,
     "metadata": {},
     "output_type": "execute_result"
    }
   ],
   "source": [
    "x2_sub_copy = x2[:2, :2].copy()\n",
    "x2_sub_copy"
   ]
  },
  {
   "cell_type": "code",
   "execution_count": 169,
   "metadata": {},
   "outputs": [],
   "source": [
    "x2_sub_copy[0, 0] = 42"
   ]
  },
  {
   "cell_type": "code",
   "execution_count": 170,
   "metadata": {},
   "outputs": [
    {
     "data": {
      "text/plain": "array([[2, 6, 7, 4],\n       [3, 7, 7, 2],\n       [5, 4, 1, 7]])"
     },
     "execution_count": 170,
     "metadata": {},
     "output_type": "execute_result"
    }
   ],
   "source": [
    "x2"
   ]
  },
  {
   "cell_type": "code",
   "execution_count": 171,
   "metadata": {},
   "outputs": [
    {
     "data": {
      "text/plain": "array([[42,  6],\n       [ 3,  7]])"
     },
     "execution_count": 171,
     "metadata": {},
     "output_type": "execute_result"
    }
   ],
   "source": [
    "x2_sub_copy"
   ]
  },
  {
   "cell_type": "markdown",
   "metadata": {},
   "source": [
    "## Reshaping\n",
    "* We can use the `reshape()` method on an NumPy array to actually change its shape:"
   ]
  },
  {
   "cell_type": "code",
   "execution_count": 172,
   "metadata": {},
   "outputs": [
    {
     "name": "stdout",
     "output_type": "stream",
     "text": [
      "[[1 2 3]\n",
      " [4 5 6]\n",
      " [7 8 9]]\n"
     ]
    }
   ],
   "source": [
    "grid = np.arange(1, 10).reshape((3, 3))\n",
    "print(grid)"
   ]
  },
  {
   "cell_type": "markdown",
   "metadata": {},
   "source": [
    "* For this to work, the size of the initial array must match the size of the reshaped array\n",
    "* _Important_: `reshape()` will return a new view if possible; otherwise, it will be a copy\n",
    " * In case of a view, if you change an entry of the reshaped array, it will also change the initial array"
   ]
  },
  {
   "cell_type": "markdown",
   "metadata": {},
   "source": [
    "## Array Concatenation and Splitting\n",
    "* Concatenation, or joining of two or multiple arrays in NumPy can be accomplished through the functions `np.concatenate, np.vstack, and np.hstack`\n",
    " * Join multiple two-dimensional arrays: `np.concatenate([twodim1, twodim2,…], axis=0)`\n",
    "   * A two-dimensional array has two axes: The first running vertically downwards across rows (axis `0`), and the second running horizontally across columns (axis `1`)\n",
    "* The opposite of concatenation is splitting, which is provided by the functions `np.split, np.hsplit` (split horizontally), and `np.vsplit` (split vertically)\n",
    " * For each of these we can pass a list of indices giving the split points"
   ]
  },
  {
   "cell_type": "code",
   "execution_count": 173,
   "metadata": {},
   "outputs": [
    {
     "data": {
      "text/plain": "array([1, 2, 3, 3, 2, 1])"
     },
     "execution_count": 173,
     "metadata": {},
     "output_type": "execute_result"
    }
   ],
   "source": [
    "x = np.array([1, 2, 3])\n",
    "y = np.array([3, 2, 1])\n",
    "np.concatenate([x, y])"
   ]
  },
  {
   "cell_type": "code",
   "execution_count": 174,
   "metadata": {},
   "outputs": [
    {
     "data": {
      "text/plain": "array([[1, 2, 3],\n       [4, 5, 6],\n       [1, 2, 3],\n       [4, 5, 6]])"
     },
     "execution_count": 174,
     "metadata": {},
     "output_type": "execute_result"
    }
   ],
   "source": [
    "grid = np.array([[1, 2, 3], [4, 5, 6]])\n",
    "np.concatenate([grid, grid])"
   ]
  },
  {
   "cell_type": "code",
   "execution_count": 175,
   "metadata": {},
   "outputs": [
    {
     "data": {
      "text/plain": "array([[1, 2, 3, 1, 2, 3],\n       [4, 5, 6, 4, 5, 6]])"
     },
     "execution_count": 175,
     "metadata": {},
     "output_type": "execute_result"
    }
   ],
   "source": [
    "np.concatenate([grid, grid], axis=1)"
   ]
  },
  {
   "cell_type": "code",
   "execution_count": 176,
   "metadata": {},
   "outputs": [
    {
     "data": {
      "text/plain": "array([[1, 2, 3],\n       [9, 8, 7],\n       [6, 5, 4]])"
     },
     "execution_count": 176,
     "metadata": {},
     "output_type": "execute_result"
    }
   ],
   "source": [
    "x = np.array([1, 2, 3])\n",
    "grid = np.array([[9, 8, 7],\n",
    "                 [6, 5, 4]])\n",
    "\n",
    "np.vstack([x, grid])"
   ]
  },
  {
   "cell_type": "code",
   "execution_count": 177,
   "metadata": {},
   "outputs": [
    {
     "data": {
      "text/plain": "array([[ 9,  8,  7, 99],\n       [ 6,  5,  4, 99]])"
     },
     "execution_count": 177,
     "metadata": {},
     "output_type": "execute_result"
    }
   ],
   "source": [
    "y = np.array([[99],\n",
    "              [99]])\n",
    "\n",
    "np.hstack([grid, y])"
   ]
  },
  {
   "cell_type": "code",
   "execution_count": 178,
   "metadata": {},
   "outputs": [
    {
     "data": {
      "text/plain": "array([[ 0,  1,  2,  3],\n       [ 4,  5,  6,  7],\n       [ 8,  9, 10, 11],\n       [12, 13, 14, 15]])"
     },
     "execution_count": 178,
     "metadata": {},
     "output_type": "execute_result"
    }
   ],
   "source": [
    "grid = np.arange(16).reshape((4, 4))\n",
    "grid"
   ]
  },
  {
   "cell_type": "code",
   "execution_count": 179,
   "metadata": {},
   "outputs": [],
   "source": [
    "upper, lower = np.vsplit(grid, [2])"
   ]
  },
  {
   "cell_type": "code",
   "execution_count": 180,
   "metadata": {},
   "outputs": [
    {
     "data": {
      "text/plain": "array([[0, 1, 2, 3],\n       [4, 5, 6, 7]])"
     },
     "execution_count": 180,
     "metadata": {},
     "output_type": "execute_result"
    }
   ],
   "source": [
    "upper"
   ]
  },
  {
   "cell_type": "code",
   "execution_count": 181,
   "metadata": {},
   "outputs": [
    {
     "data": {
      "text/plain": "array([[ 8,  9, 10, 11],\n       [12, 13, 14, 15]])"
     },
     "execution_count": 181,
     "metadata": {},
     "output_type": "execute_result"
    }
   ],
   "source": [
    "lower"
   ]
  },
  {
   "cell_type": "markdown",
   "metadata": {},
   "source": [
    "## Faster Operations Instead of Slow `for` Loops\n",
    "* Looping over arrays to operate on each element can be a quite slow operation in Python\n",
    "* One of the reasons why the for loop approach is so slow is because of the type-checking and function dispatches that must be done at each iteration of the cycle\n",
    " * Python needs to examine the object's type and do a dynamic lookup of the correct function to use for that type"
   ]
  },
  {
   "cell_type": "code",
   "execution_count": 182,
   "metadata": {},
   "outputs": [
    {
     "data": {
      "text/plain": "array([0.16666667, 1.        , 0.25      , 0.25      , 0.125     ])"
     },
     "execution_count": 182,
     "metadata": {},
     "output_type": "execute_result"
    }
   ],
   "source": [
    "np.random.seed(0)\n",
    "\n",
    "\n",
    "def compute_reciprocals(values):\n",
    "    output = np.empty(len(values))\n",
    "    for i in range(len(values)):\n",
    "        output[i] = 1.0 / values[i]\n",
    "    return output\n",
    "\n",
    "\n",
    "values = np.random.randint(1, 10, size=5)\n",
    "\n",
    "compute_reciprocals(values)"
   ]
  },
  {
   "cell_type": "code",
   "execution_count": 183,
   "metadata": {},
   "outputs": [
    {
     "name": "stdout",
     "output_type": "stream",
     "text": [
      "16.7 ms ± 988 µs per loop (mean ± std. dev. of 7 runs, 100 loops each)\n"
     ]
    }
   ],
   "source": [
    "big_array = np.random.randint(1, 100, size=10000)\n",
    "%timeit compute_reciprocals(big_array)"
   ]
  },
  {
   "cell_type": "markdown",
   "metadata": {},
   "source": [
    "## NumPy's Universal Functions\n",
    "* NumPy provides very fast, vectorized operations which are implemented via _universal functions_ (ufuncs), whose main purpose is to quickly execute repeated operations on values in NumPy arrays\n",
    " * A _vectorized operation_ is performed on the array, which will then be applied to each element\n",
    "Instead of computing the reciprocal using a for loop, lets do it by using a universal function:"
   ]
  },
  {
   "cell_type": "code",
   "execution_count": 184,
   "metadata": {},
   "outputs": [
    {
     "name": "stdout",
     "output_type": "stream",
     "text": [
      "10.6 µs ± 91.3 ns per loop (mean ± std. dev. of 7 runs, 100000 loops each)\n"
     ]
    }
   ],
   "source": [
    "%timeit (1.0 / big_array)"
   ]
  },
  {
   "cell_type": "markdown",
   "metadata": {},
   "source": [
    " * We can use ufuncs to apply an operation between a scalar and an array, but we can also operate between two arrays"
   ]
  },
  {
   "cell_type": "code",
   "execution_count": 185,
   "metadata": {},
   "outputs": [
    {
     "data": {
      "text/plain": "array([4. , 2.5, 2. ])"
     },
     "execution_count": 185,
     "metadata": {},
     "output_type": "execute_result"
    }
   ],
   "source": [
    "np.array([4, 5, 6]) / np.array([1, 2, 3])"
   ]
  },
  {
   "cell_type": "markdown",
   "metadata": {},
   "source": [
    "## Advanced Ufunc Features: Specifying Output and Aggregates\n",
    "* ufuncs provide a few specialized features\n",
    "* We can specify where to store a result (useful for large calculations)\n",
    "* If no `out` argument is provided, a newly-allocated array is returned (can be costly memory-wise)"
   ]
  },
  {
   "cell_type": "code",
   "execution_count": 186,
   "metadata": {},
   "outputs": [
    {
     "data": {
      "text/plain": "array([2.06093744, 0.69318977, 0.38218168, 0.92366056, 0.05800874,\n       1.89006749, 0.99872665, 2.9811336 , 0.29351804, 2.68465283])"
     },
     "execution_count": 186,
     "metadata": {},
     "output_type": "execute_result"
    }
   ],
   "source": [
    "x = np.random.random(10)\n",
    "y = np.zeros(10)\n",
    "np.multiply(x, 3, y)"
   ]
  },
  {
   "cell_type": "markdown",
   "metadata": {},
   "source": [
    "* _Reduce_: Repeatedly apply a given operation to the elements of an array until only one single result remains\n",
    " * For example, `np.add.reduce(x)` applies addition to the elements until the one result remains, namely the sum of all elements\n",
    "* _Accumulate_: Almost same as reduce, but also stores the intermediate results of the computation"
   ]
  },
  {
   "cell_type": "code",
   "execution_count": 187,
   "metadata": {},
   "outputs": [
    {
     "data": {
      "text/plain": "15"
     },
     "execution_count": 187,
     "metadata": {},
     "output_type": "execute_result"
    }
   ],
   "source": [
    "x = np.array([1, 2, 3, 4, 5])\n",
    "np.add.reduce(x)"
   ]
  },
  {
   "cell_type": "code",
   "execution_count": 188,
   "metadata": {},
   "outputs": [
    {
     "data": {
      "text/plain": "array([ 1,  3,  6, 10, 15], dtype=int32)"
     },
     "execution_count": 188,
     "metadata": {},
     "output_type": "execute_result"
    }
   ],
   "source": [
    "x = np.array([1, 2, 3, 4, 5])\n",
    "np.add.accumulate(x)"
   ]
  },
  {
   "cell_type": "markdown",
   "metadata": {},
   "source": [
    "## Aggregations\n",
    "* If we want to compute summary statistics for the data in question, aggregates are very useful\n",
    "  * Common summary statistics: mean, standard deviation, median, minimum, maximum, quantiles, etc.\n",
    "* NumPy provides fast built-in aggregation functions for working with arrays:"
   ]
  },
  {
   "cell_type": "code",
   "execution_count": 189,
   "metadata": {},
   "outputs": [
    {
     "name": "stdout",
     "output_type": "stream",
     "text": [
      "5.41 µs ± 28.3 ns per loop (mean ± std. dev. of 7 runs, 100000 loops each)\n",
      "681 µs ± 30 µs per loop (mean ± std. dev. of 7 runs, 1000 loops each)\n"
     ]
    }
   ],
   "source": [
    "x = np.random.random(10000)\n",
    "%timeit np.max(x)  # NumPy ufunc\n",
    "%timeit max(x)  # Python function"
   ]
  },
  {
   "cell_type": "markdown",
   "metadata": {},
   "source": [
    "* Summing values in an array:"
   ]
  },
  {
   "cell_type": "code",
   "execution_count": 190,
   "metadata": {},
   "outputs": [
    {
     "name": "stdout",
     "output_type": "stream",
     "text": [
      "5.55 µs ± 48 ns per loop (mean ± std. dev. of 7 runs, 100000 loops each)\n",
      "1.17 ms ± 16.6 µs per loop (mean ± std. dev. of 7 runs, 1000 loops each)\n"
     ]
    }
   ],
   "source": [
    "%timeit np.sum(x)  # NumPy ufunc\n",
    "%timeit sum(x)  # Python function"
   ]
  },
  {
   "cell_type": "markdown",
   "metadata": {},
   "source": [
    "## Multidimensional Aggregates\n",
    "* By default, each NumPy aggregation function will return the aggregate over the entire array\n",
    "* Aggregation functions take an additional argument specifying the axis along which the aggregate is computed\n",
    " * For example, we can find the minimum value within each column by specifying `axis=0`:"
   ]
  },
  {
   "cell_type": "code",
   "execution_count": 191,
   "metadata": {},
   "outputs": [
    {
     "data": {
      "text/plain": "array([ 0.12, -1.  ,  0.41])"
     },
     "execution_count": 191,
     "metadata": {},
     "output_type": "execute_result"
    }
   ],
   "source": [
    "twodim = np.array([[1, 2, 3], [0.12, -1, 0.41], [10, 9, 8]])\n",
    "twodim.min(axis=0)"
   ]
  },
  {
   "cell_type": "markdown",
   "metadata": {},
   "source": [
    "## Comparison Operators as ufuncs\n",
    "* NumPy also implements comparison operators as element-wise ufuncs\n",
    "* The result of these comparison operators is always an array with a Boolean data type:"
   ]
  },
  {
   "cell_type": "code",
   "execution_count": 192,
   "metadata": {},
   "outputs": [
    {
     "data": {
      "text/plain": "array([ True, False, False])"
     },
     "execution_count": 192,
     "metadata": {},
     "output_type": "execute_result"
    }
   ],
   "source": [
    "np.array([1, 2, 3]) < 2"
   ]
  },
  {
   "cell_type": "markdown",
   "metadata": {},
   "source": [
    "* It is also possible to do an element-by-element comparison of two arrays:"
   ]
  },
  {
   "cell_type": "code",
   "execution_count": 193,
   "metadata": {},
   "outputs": [
    {
     "data": {
      "text/plain": "array([False,  True, False])"
     },
     "execution_count": 193,
     "metadata": {},
     "output_type": "execute_result"
    }
   ],
   "source": [
    "np.array([1, 2, 3]) < np.array([0, 4, 2])"
   ]
  },
  {
   "cell_type": "markdown",
   "metadata": {},
   "source": [
    "## Working with Boolean Arrays: Counting Entries\n",
    "* The `np.count_nonzero()` function will count the number of `True` entries in a Boolean array"
   ]
  },
  {
   "cell_type": "code",
   "execution_count": 194,
   "metadata": {},
   "outputs": [
    {
     "data": {
      "text/plain": "3"
     },
     "execution_count": 194,
     "metadata": {},
     "output_type": "execute_result"
    }
   ],
   "source": [
    "nums = np.array([1, 2, 3, 4, 5])\n",
    "np.count_nonzero(nums < 4)"
   ]
  },
  {
   "cell_type": "markdown",
   "metadata": {},
   "source": [
    "* We can also use the `np.sum()` function to accomplish the same. In this case, `True` is interpreted as `1` and `False` as `0`:"
   ]
  },
  {
   "cell_type": "code",
   "execution_count": 195,
   "metadata": {},
   "outputs": [
    {
     "data": {
      "text/plain": "3"
     },
     "execution_count": 195,
     "metadata": {},
     "output_type": "execute_result"
    }
   ],
   "source": [
    "np.sum(nums < 4)"
   ]
  },
  {
   "cell_type": "markdown",
   "metadata": {},
   "source": [
    "* NumPy also implements bitwise logic operators as element-wise ufuncs\n",
    "* We can use these bitwise logic operators to construct compound conditions (consisting of multiple conditions)"
   ]
  },
  {
   "cell_type": "code",
   "execution_count": 196,
   "metadata": {},
   "outputs": [
    {
     "data": {
      "text/plain": "array([ True, False, False,  True,  True])"
     },
     "execution_count": 196,
     "metadata": {},
     "output_type": "execute_result"
    }
   ],
   "source": [
    "(nums < 2) | (nums > 3)"
   ]
  },
  {
   "cell_type": "markdown",
   "metadata": {},
   "source": [
    "## Boolean Arrays as Masks\n",
    "* In the previous slides we looked at aggregates computed directly on Boolean arrays\n",
    "* Once we have a Boolean array from lets say a comparison, we can select the entries that meet the condition by using the Boolean array as a _mask_"
   ]
  },
  {
   "cell_type": "code",
   "execution_count": 197,
   "metadata": {},
   "outputs": [
    {
     "data": {
      "text/plain": "array([ 3,  1, -1,  3,  4])"
     },
     "execution_count": 197,
     "metadata": {},
     "output_type": "execute_result"
    }
   ],
   "source": [
    "x = np.array([[3, 1, 5], [10, 32, 100], [-1, 3, 4]])\n",
    "x[x < 5]"
   ]
  },
  {
   "cell_type": "markdown",
   "metadata": {},
   "source": [
    "## Reading and Writing Data with NumPy\n",
    "\n",
    "* We can use the `np.savetxt()` function to save NumPy data to a file\n",
    "* We can use the `np.loadtxt()` function to load data from a file\n",
    "  * *Remember*: We can only store elements of a single type in a NumPy array\n",
    "* Use the shell commands `!ls`, `!pwd`, and `!cd` within our notebook to navigate the file system if necessary\n",
    "\n",
    "### Split-Up Data Example\n",
    "1. We are now first going to generate some data which we will store into multiple files\n",
    "2. In a next step, we are going to read the same split-up data into a NumPy array again. \n",
    "3. **Note**: Please create a `smarthome` folder within the `datasets` folder; we are going to store the files there\n"
   ]
  },
  {
   "cell_type": "code",
   "execution_count": 198,
   "metadata": {},
   "outputs": [
    {
     "name": "stdout",
     "output_type": "stream",
     "text": [
      "day #01 done\n",
      "day #02 done\n",
      "day #03 done\n",
      "day #04 done\n",
      "day #05 done\n",
      "day #06 done\n",
      "day #07 done\n",
      "day #08 done\n",
      "day #09 done\n",
      "day #10 done\n",
      "day #11 done\n",
      "day #12 done\n",
      "day #13 done\n",
      "day #14 done\n",
      "day #15 done\n",
      "day #16 done\n",
      "day #17 done\n",
      "day #18 done\n",
      "day #19 done\n",
      "day #20 done\n",
      "day #21 done\n",
      "day #22 done\n",
      "day #23 done\n",
      "day #24 done\n",
      "day #25 done\n",
      "day #26 done\n",
      "day #27 done\n",
      "day #28 done\n",
      "day #29 done\n",
      "day #30 done\n",
      "All files have been successfully created!\n"
     ]
    }
   ],
   "source": [
    "def generate_split_data():\n",
    "    seconds_in_a_day = 24 * 60 * 60 - 1\n",
    "    data_size = (seconds_in_a_day, 1)\n",
    "\n",
    "    days = np.arange(1, 31)\n",
    "\n",
    "    rng = np.random.RandomState(42)\n",
    "\n",
    "    for day in np.nditer(days):\n",
    "        fridge_temperature = rng.normal(loc=5, scale=2.0, size=data_size)\n",
    "        room_temperature = rng.normal(loc=20, scale=3.0, size=data_size)\n",
    "        outside_temperature = rng.normal(loc=10, scale=2.0, size=data_size)\n",
    "        data = np.concatenate((outside_temperature, room_temperature, fridge_temperature), axis=1)  # Concatenate column-wise\n",
    "        # Important: use :02d since it allows us to sort the filenames\n",
    "        np.savetxt(\"./datasets/smarthome/day_{:02d}.txt\".format(day), data, fmt=\"%.4f\", delimiter=\",\",\n",
    "                   header=\"outside_temperature_celsius, room_temperature_celsius, fridge_temperature_celsius\")\n",
    "        print(\"day #{:02d} done\".format(day))\n",
    "\n",
    "    print(\"All files have been successfully created!\")\n",
    "    return data\n",
    "\n",
    "\n",
    "data = generate_split_data()"
   ]
  },
  {
   "cell_type": "code",
   "execution_count": 199,
   "metadata": {},
   "outputs": [
    {
     "name": "stdout",
     "output_type": "stream",
     "text": [
      "Done with loading day_01.txt\n",
      "Done with loading day_02.txt\n",
      "Done with loading day_03.txt\n",
      "Done with loading day_04.txt\n",
      "Done with loading day_05.txt\n",
      "Done with loading day_06.txt\n",
      "Done with loading day_07.txt\n",
      "Done with loading day_08.txt\n",
      "Done with loading day_09.txt\n",
      "Done with loading day_10.txt\n",
      "Done with loading day_11.txt\n",
      "Done with loading day_12.txt\n",
      "Done with loading day_13.txt\n",
      "Done with loading day_14.txt\n",
      "Done with loading day_15.txt\n",
      "Done with loading day_16.txt\n",
      "Done with loading day_17.txt\n",
      "Done with loading day_18.txt\n",
      "Done with loading day_19.txt\n",
      "Done with loading day_20.txt\n",
      "Done with loading day_21.txt\n",
      "Done with loading day_22.txt\n",
      "Done with loading day_23.txt\n",
      "Done with loading day_24.txt\n",
      "Done with loading day_25.txt\n",
      "Done with loading day_26.txt\n",
      "Done with loading day_27.txt\n",
      "Done with loading day_28.txt\n",
      "Done with loading day_29.txt\n",
      "Done with loading day_30.txt\n",
      "Data shape: (2591970, 3)\n"
     ]
    }
   ],
   "source": [
    "from os import listdir\n",
    "from os.path import isfile, join\n",
    "\n",
    "\n",
    "def read_split_data():\n",
    "    files_dir = \"./datasets/smarthome\"\n",
    "    files = listdir(files_dir)\n",
    "    files.remove(\".gitignore\")\n",
    "    files.sort()\n",
    "\n",
    "    all_data = np.empty((0, 3), dtype=np.float64)\n",
    "\n",
    "    for f in files:\n",
    "        new_data = np.loadtxt(\"{}/{}\".format(files_dir, f), skiprows=1, delimiter=\",\")\n",
    "        all_data = np.vstack((all_data, new_data))\n",
    "        print(\"Done with loading {}\".format(f))\n",
    "\n",
    "    print(\"Data shape: {}\".format(all_data.shape))\n",
    "    return new_data\n",
    "\n",
    "\n",
    "new_data = read_split_data()"
   ]
  },
  {
   "cell_type": "code",
   "execution_count": 200,
   "metadata": {
    "pycharm": {
     "name": "#%%\n"
    }
   },
   "outputs": [
    {
     "name": "stdout",
     "output_type": "stream",
     "text": [
      "False\n",
      "\n",
      "test\n"
     ]
    }
   ],
   "source": [
    "data\n",
    "new_data\n",
    "print(np.allclose(data, new_data, atol=1e-5))\n",
    "print(\"\")\n",
    "print(\"test\")\n"
   ]
  },
  {
   "cell_type": "markdown",
   "metadata": {},
   "source": [
    "## Reading CSV Data with NumPy\n",
    "* Some CSV data contains a mix between numbers and strings, or might have missing values\n",
    "* We can use the `np.genfromtxt()` function to load mixed data from such a file into a NumPy array"
   ]
  },
  {
   "cell_type": "code",
   "execution_count": 201,
   "metadata": {},
   "outputs": [
    {
     "data": {
      "text/plain": "array([(158023, 'L. Messi', 31, 94, 94),\n       ( 20801, 'Cristiano Ronaldo', 33, 94, 94),\n       (190871, 'Neymar Jr', 26, 92, 93), ...,\n       (241638, 'B. Worman', 16, 47, 67),\n       (246268, 'D. Walker-Rice', 17, 47, 66),\n       (246269, 'G. Nugent', 16, 46, 66)],\n      dtype=[('ID', '<i4'), ('Name', '<U50'), ('Age', '<i4'), ('Overall_rating', '<i4'), ('Overall_potential', '<i4')])"
     },
     "execution_count": 201,
     "metadata": {},
     "output_type": "execute_result"
    }
   ],
   "source": [
    "# Lets play around with the FIFA 2019 player statistics data set and see how we can work with mixed data\n",
    "fifa_data = np.genfromtxt(open(\"./datasets/fifa/data.csv\", \"r\", encoding=\"utf8\"), delimiter=\",\", skip_header=1,\n",
    "                          missing_values=-1, usecols=(1, 2, 3, 7, 8),\n",
    "                          dtype=[(\"ID\", int), (\"Name\", \"U50\"), (\"Age\", int), (\"Overall rating\", int), (\"Overall potential\", int)])\n",
    "fifa_data"
   ]
  }
 ],
 "metadata": {
  "kernelspec": {
   "display_name": "Python 3",
   "language": "python",
   "name": "python3"
  },
  "language_info": {
   "codemirror_mode": {
    "name": "ipython",
    "version": 3
   },
   "file_extension": ".py",
   "mimetype": "text/x-python",
   "name": "python",
   "nbconvert_exporter": "python",
   "pygments_lexer": "ipython3",
   "version": "3.6.8"
  }
 },
 "nbformat": 4,
 "nbformat_minor": 2
}