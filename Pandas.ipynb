{
 "cells": [
  {
   "cell_type": "markdown",
   "metadata": {},
   "source": [
    "APPF1 | Course Day 2 | 18.05.2019\n",
    "\n",
    "# Using Pandas to Get More out of Data\n",
    "## Pandas\n",
    "* Pandas is a newer package built on top of NumPy\n",
    "* NumPy is very useful for numerical computing tasks* \n",
    "* Pandas allows more flexibility: Attaching labels to data, working with missing data, etc."
   ]
  },
  {
   "cell_type": "code",
   "execution_count": 1,
   "metadata": {},
   "outputs": [
    {
     "data": {
      "text/plain": "'1.0.3'"
     },
     "execution_count": 1,
     "metadata": {},
     "output_type": "execute_result"
    }
   ],
   "source": [
    "import pandas as pd\n",
    "pd.__version__"
   ]
  },
  {
   "cell_type": "code",
   "execution_count": 2,
   "metadata": {},
   "outputs": [
    {
     "data": {
      "text/plain": "'1.19.4'"
     },
     "execution_count": 2,
     "metadata": {},
     "output_type": "execute_result"
    }
   ],
   "source": [
    "import numpy as np # We will need NumPy throughout this course day\n",
    "np.__version__"
   ]
  },
  {
   "cell_type": "markdown",
   "metadata": {},
   "source": [
    "## The Pandas Objects\n",
    "* Pandas objects are enhanced versions of NumPy arrays: The rows and columns are identified with labels rather than simple integer indices\n",
    "* `Series` object: A one-dimensional array of indexed data\n",
    "* `DataFrame` object: A two-dimensional array with both flexible row indices and flexible column names\n",
    "\n",
    "## The Pandas `Series` Object\n",
    "* A Pandas `Series` object is a one-dimensional array of indexed data\n",
    " * NumPy array: has an _implicitly_ defined integer index\n",
    " * A `Series` object uses by default integer indices:"
   ]
  },
  {
   "cell_type": "code",
   "execution_count": 3,
   "metadata": {},
   "outputs": [
    {
     "name": "stdout",
     "output_type": "stream",
     "text": [
      "25\n"
     ]
    }
   ],
   "source": [
    "# data1 = pd.Series([100,200,300])\n",
    "# data1\n",
    "\n",
    "class X:\n",
    "    def __init__(self):\n",
    "        self.attribute = 10\n",
    "    def double(self):\n",
    "        self.attribute *= 2\n",
    "        return self\n",
    "    def add(self, x):\n",
    "        self.attribute += x\n",
    "        return self\n",
    "\n",
    "x = X()\n",
    "x.double().add(5)\n",
    "print(x.attribute)"
   ]
  },
  {
   "cell_type": "markdown",
   "metadata": {},
   "source": [
    "* A `Series` object can have an _explicitly_ defined index associated with the values:"
   ]
  },
  {
   "cell_type": "code",
   "execution_count": 4,
   "metadata": {},
   "outputs": [
    {
     "data": {
      "text/plain": "a    100\nb    200\nc    300\ndtype: int64"
     },
     "execution_count": 4,
     "metadata": {},
     "output_type": "execute_result"
    }
   ],
   "source": [
    "data2 = pd.Series([100,200,300], index=[\"a\",\"b\",\"c\"])\n",
    "data2"
   ]
  },
  {
   "cell_type": "markdown",
   "metadata": {},
   "source": [
    "* We can access the index labels by using the `index` attribute:"
   ]
  },
  {
   "cell_type": "code",
   "execution_count": 5,
   "metadata": {},
   "outputs": [
    {
     "data": {
      "text/plain": "Index(['a', 'b', 'c'], dtype='object')"
     },
     "execution_count": 5,
     "metadata": {},
     "output_type": "execute_result"
    }
   ],
   "source": [
    "d2ind = data2.index\n",
    "d2ind"
   ]
  },
  {
   "cell_type": "markdown",
   "metadata": {},
   "source": [
    "* A Python dictionary maps arbitrary keys to a set of arbitrary values\n",
    "* A `Series` object maps _typed_ keys to a set of _typed_ values\n",
    " * \"Typed\" means we know the type of the indices and elements beforehand, making Pandas Series objects much more efficient than Python dictionaries for certain operations\n",
    "* We can construct a `Series` object directly from a Python dictionary:"
   ]
  },
  {
   "cell_type": "code",
   "execution_count": 6,
   "metadata": {},
   "outputs": [
    {
     "data": {
      "text/plain": "c    123\na     30\nb    100\ndtype: int64"
     },
     "execution_count": 6,
     "metadata": {},
     "output_type": "execute_result"
    }
   ],
   "source": [
    "data_dict = pd.Series({\"c\":123,\"a\":30,\"b\":100})\n",
    "data_dict"
   ]
  },
  {
   "cell_type": "markdown",
   "metadata": {},
   "source": [
    "* _Note_: The index for the `Series` is drawn from the sorted keys\n",
    "\n",
    "## The Pandas `DataFrame` Object\n",
    "* A `DataFrame` object is an analog of a two-dimensional array both with flexible row indices and flexible column names\n",
    " * Both the rows and columns have a generalized index for accessing the data\n",
    " * The row indices can be accessed by using the `index` attribute\n",
    " * The column indices can be accessed by using the `columns` attribute\n",
    " \n",
    "## Constructing `DataFrame` Objects\n",
    "* You can think of a `DataFrame` as a sequence of aligned `Series` objects, meaning that each column of a `DataFrame` is a `Series`"
   ]
  },
  {
   "cell_type": "code",
   "execution_count": 7,
   "metadata": {},
   "outputs": [],
   "source": [
    "population_dict = {'California': 38332521,\n",
    "                   'Texas': 26448193,\n",
    "                   'New York': 19651127,\n",
    "                   'Florida': 19552860,\n",
    "                   'Illinois': 12882135}\n",
    "population = pd.Series(population_dict)\n",
    "\n",
    "area_dict = {'California': 423967, 'Texas': 695662, 'New York': 141297, 'Florida': 170312, 'Illinois': 149995}\n",
    "area = pd.Series(area_dict)\n"
   ]
  },
  {
   "cell_type": "code",
   "execution_count": 8,
   "metadata": {},
   "outputs": [
    {
     "data": {
      "text/plain": "California    38332521\nTexas         26448193\nNew York      19651127\nFlorida       19552860\nIllinois      12882135\ndtype: int64"
     },
     "execution_count": 8,
     "metadata": {},
     "output_type": "execute_result"
    }
   ],
   "source": [
    "population"
   ]
  },
  {
   "cell_type": "code",
   "execution_count": 9,
   "metadata": {},
   "outputs": [
    {
     "data": {
      "text/plain": "California    423967\nTexas         695662\nNew York      141297\nFlorida       170312\nIllinois      149995\ndtype: int64"
     },
     "execution_count": 9,
     "metadata": {},
     "output_type": "execute_result"
    }
   ],
   "source": [
    "area"
   ]
  },
  {
   "cell_type": "code",
   "execution_count": 10,
   "metadata": {},
   "outputs": [
    {
     "data": {
      "text/plain": "            population    area\nCalifornia    38332521  423967\nTexas         26448193  695662\nNew York      19651127  141297\nFlorida       19552860  170312\nIllinois      12882135  149995",
      "text/html": "<div>\n<style scoped>\n    .dataframe tbody tr th:only-of-type {\n        vertical-align: middle;\n    }\n\n    .dataframe tbody tr th {\n        vertical-align: top;\n    }\n\n    .dataframe thead th {\n        text-align: right;\n    }\n</style>\n<table border=\"1\" class=\"dataframe\">\n  <thead>\n    <tr style=\"text-align: right;\">\n      <th></th>\n      <th>population</th>\n      <th>area</th>\n    </tr>\n  </thead>\n  <tbody>\n    <tr>\n      <th>California</th>\n      <td>38332521</td>\n      <td>423967</td>\n    </tr>\n    <tr>\n      <th>Texas</th>\n      <td>26448193</td>\n      <td>695662</td>\n    </tr>\n    <tr>\n      <th>New York</th>\n      <td>19651127</td>\n      <td>141297</td>\n    </tr>\n    <tr>\n      <th>Florida</th>\n      <td>19552860</td>\n      <td>170312</td>\n    </tr>\n    <tr>\n      <th>Illinois</th>\n      <td>12882135</td>\n      <td>149995</td>\n    </tr>\n  </tbody>\n</table>\n</div>"
     },
     "execution_count": 10,
     "metadata": {},
     "output_type": "execute_result"
    }
   ],
   "source": [
    "states = pd.DataFrame({'population': population,'area': area})\n",
    "states"
   ]
  },
  {
   "cell_type": "code",
   "execution_count": 11,
   "metadata": {},
   "outputs": [
    {
     "data": {
      "text/plain": "Index(['California', 'Texas', 'New York', 'Florida', 'Illinois'], dtype='object')"
     },
     "execution_count": 11,
     "metadata": {},
     "output_type": "execute_result"
    }
   ],
   "source": [
    "states.index"
   ]
  },
  {
   "cell_type": "code",
   "execution_count": 12,
   "metadata": {},
   "outputs": [
    {
     "data": {
      "text/plain": "Index(['population', 'area'], dtype='object')"
     },
     "execution_count": 12,
     "metadata": {},
     "output_type": "execute_result"
    }
   ],
   "source": [
    "states.columns"
   ]
  },
  {
   "cell_type": "markdown",
   "metadata": {},
   "source": [
    "* There are multiple ways to construct a `DataFrame` object\n",
    " * From a single `Series` object"
   ]
  },
  {
   "cell_type": "code",
   "execution_count": 13,
   "metadata": {},
   "outputs": [
    {
     "data": {
      "text/plain": "            population\nCalifornia    38332521\nTexas         26448193\nNew York      19651127\nFlorida       19552860\nIllinois      12882135",
      "text/html": "<div>\n<style scoped>\n    .dataframe tbody tr th:only-of-type {\n        vertical-align: middle;\n    }\n\n    .dataframe tbody tr th {\n        vertical-align: top;\n    }\n\n    .dataframe thead th {\n        text-align: right;\n    }\n</style>\n<table border=\"1\" class=\"dataframe\">\n  <thead>\n    <tr style=\"text-align: right;\">\n      <th></th>\n      <th>population</th>\n    </tr>\n  </thead>\n  <tbody>\n    <tr>\n      <th>California</th>\n      <td>38332521</td>\n    </tr>\n    <tr>\n      <th>Texas</th>\n      <td>26448193</td>\n    </tr>\n    <tr>\n      <th>New York</th>\n      <td>19651127</td>\n    </tr>\n    <tr>\n      <th>Florida</th>\n      <td>19552860</td>\n    </tr>\n    <tr>\n      <th>Illinois</th>\n      <td>12882135</td>\n    </tr>\n  </tbody>\n</table>\n</div>"
     },
     "execution_count": 13,
     "metadata": {},
     "output_type": "execute_result"
    }
   ],
   "source": [
    "pd.DataFrame(population, columns=[\"population\"])"
   ]
  },
  {
   "cell_type": "markdown",
   "metadata": {},
   "source": [
    " * From a list of dictionaries:"
   ]
  },
  {
   "cell_type": "code",
   "execution_count": 14,
   "metadata": {},
   "outputs": [
    {
     "name": "stdout",
     "output_type": "stream",
     "text": [
      "     a  b    c\n",
      "0  1.0  2  NaN\n",
      "1  NaN  3  4.0\n"
     ]
    }
   ],
   "source": [
    "x = pd.DataFrame([{'a': 1, 'b': 2}, {'b': 3, 'c': 4}])\n",
    "print(x)\n",
    "value = 3"
   ]
  },
  {
   "cell_type": "markdown",
   "metadata": {},
   "source": [
    " * From a dictionary of `Series` objects:"
   ]
  },
  {
   "cell_type": "code",
   "execution_count": 15,
   "metadata": {},
   "outputs": [
    {
     "data": {
      "text/plain": "            population    area\nCalifornia    38332521  423967\nTexas         26448193  695662\nNew York      19651127  141297\nFlorida       19552860  170312\nIllinois      12882135  149995",
      "text/html": "<div>\n<style scoped>\n    .dataframe tbody tr th:only-of-type {\n        vertical-align: middle;\n    }\n\n    .dataframe tbody tr th {\n        vertical-align: top;\n    }\n\n    .dataframe thead th {\n        text-align: right;\n    }\n</style>\n<table border=\"1\" class=\"dataframe\">\n  <thead>\n    <tr style=\"text-align: right;\">\n      <th></th>\n      <th>population</th>\n      <th>area</th>\n    </tr>\n  </thead>\n  <tbody>\n    <tr>\n      <th>California</th>\n      <td>38332521</td>\n      <td>423967</td>\n    </tr>\n    <tr>\n      <th>Texas</th>\n      <td>26448193</td>\n      <td>695662</td>\n    </tr>\n    <tr>\n      <th>New York</th>\n      <td>19651127</td>\n      <td>141297</td>\n    </tr>\n    <tr>\n      <th>Florida</th>\n      <td>19552860</td>\n      <td>170312</td>\n    </tr>\n    <tr>\n      <th>Illinois</th>\n      <td>12882135</td>\n      <td>149995</td>\n    </tr>\n  </tbody>\n</table>\n</div>"
     },
     "execution_count": 15,
     "metadata": {},
     "output_type": "execute_result"
    }
   ],
   "source": [
    "pd.DataFrame({'population': population, 'area': area})"
   ]
  },
  {
   "cell_type": "markdown",
   "metadata": {},
   "source": [
    " * From a two-dimensional NumPy array:"
   ]
  },
  {
   "cell_type": "code",
   "execution_count": 16,
   "metadata": {},
   "outputs": [
    {
     "data": {
      "text/plain": "        foo       bar\na  0.548814  0.715189\nb  0.602763  0.544883\nc  0.423655  0.645894",
      "text/html": "<div>\n<style scoped>\n    .dataframe tbody tr th:only-of-type {\n        vertical-align: middle;\n    }\n\n    .dataframe tbody tr th {\n        vertical-align: top;\n    }\n\n    .dataframe thead th {\n        text-align: right;\n    }\n</style>\n<table border=\"1\" class=\"dataframe\">\n  <thead>\n    <tr style=\"text-align: right;\">\n      <th></th>\n      <th>foo</th>\n      <th>bar</th>\n    </tr>\n  </thead>\n  <tbody>\n    <tr>\n      <th>a</th>\n      <td>0.548814</td>\n      <td>0.715189</td>\n    </tr>\n    <tr>\n      <th>b</th>\n      <td>0.602763</td>\n      <td>0.544883</td>\n    </tr>\n    <tr>\n      <th>c</th>\n      <td>0.423655</td>\n      <td>0.645894</td>\n    </tr>\n  </tbody>\n</table>\n</div>"
     },
     "execution_count": 16,
     "metadata": {},
     "output_type": "execute_result"
    }
   ],
   "source": [
    "rng = np.random.RandomState(0) # Ensure that the same random numbers are generated each time we run this code\n",
    "pd.DataFrame(rng.rand(3, 2),\n",
    "             columns=['foo', 'bar'],\n",
    "             index=['a', 'b', 'c'])"
   ]
  },
  {
   "cell_type": "markdown",
   "metadata": {},
   "source": [
    "## Data Selection in `Series`\n",
    "\n",
    "`Series` as a dictionary: \n",
    " * Select elements by key, e.g. `data['a']`\n",
    " * Modify the `Series` object with familiar syntax, e.g. `data['e'] = 100`\n",
    " * Check if a key exists by using the `in` operator\n",
    " * Access all the keys by using the `keys()` method\n",
    " * Access all the values by using the `items()` method"
   ]
  },
  {
   "cell_type": "code",
   "execution_count": 17,
   "metadata": {},
   "outputs": [
    {
     "data": {
      "text/plain": "a    0.25\nb    0.50\nc    0.75\nd    1.00\ndtype: float64"
     },
     "execution_count": 17,
     "metadata": {},
     "output_type": "execute_result"
    }
   ],
   "source": [
    "data = pd.Series([0.25, 0.5, 0.75, 1.0], index=['a', 'b', 'c', 'd'])\n",
    "data"
   ]
  },
  {
   "cell_type": "code",
   "execution_count": 18,
   "metadata": {},
   "outputs": [
    {
     "data": {
      "text/plain": "0.5"
     },
     "execution_count": 18,
     "metadata": {},
     "output_type": "execute_result"
    }
   ],
   "source": [
    "data['b']"
   ]
  },
  {
   "cell_type": "code",
   "execution_count": 19,
   "metadata": {},
   "outputs": [
    {
     "data": {
      "text/plain": "True"
     },
     "execution_count": 19,
     "metadata": {},
     "output_type": "execute_result"
    }
   ],
   "source": [
    "'a' in data"
   ]
  },
  {
   "cell_type": "code",
   "execution_count": 20,
   "metadata": {},
   "outputs": [
    {
     "data": {
      "text/plain": "Index(['a', 'b', 'c', 'd'], dtype='object')"
     },
     "execution_count": 20,
     "metadata": {},
     "output_type": "execute_result"
    }
   ],
   "source": [
    "data.keys()"
   ]
  },
  {
   "cell_type": "code",
   "execution_count": 21,
   "metadata": {},
   "outputs": [
    {
     "data": {
      "text/plain": "[('a', 0.25), ('b', 0.5), ('c', 0.75), ('d', 1.0)]"
     },
     "execution_count": 21,
     "metadata": {},
     "output_type": "execute_result"
    }
   ],
   "source": [
    "list(data.items())"
   ]
  },
  {
   "cell_type": "code",
   "execution_count": 22,
   "metadata": {},
   "outputs": [
    {
     "data": {
      "text/plain": "a    0.25\nb    0.50\nc    0.75\nd    1.00\ne    1.25\ndtype: float64"
     },
     "execution_count": 22,
     "metadata": {},
     "output_type": "execute_result"
    }
   ],
   "source": [
    "data['e'] = 1.25\n",
    "data"
   ]
  },
  {
   "cell_type": "markdown",
   "metadata": {},
   "source": [
    "* `Series` as one-dimensional array: \n",
    " * Select elements by the implicit integer index, e.g. `data[0]`\n",
    " * Select elements by the explicit index, e.g. `data['a']`\n",
    " * Select slices (by using an implicit integer index or an explicit index)\n",
    "   * _Important_: Slicing with an explicit index (e.g., `data['a':'c']`) will _include_ the final index in the slice, while slicing with an implicit index (e.g., `data[0:3]`) will _exclude_ the final index from the slice\n",
    " * Use masking operations, e.g., `data[data < 3]`"
   ]
  },
  {
   "cell_type": "code",
   "execution_count": 23,
   "metadata": {},
   "outputs": [
    {
     "data": {
      "text/plain": "a    0.25\nb    0.50\nc    0.75\ndtype: float64"
     },
     "execution_count": 23,
     "metadata": {},
     "output_type": "execute_result"
    }
   ],
   "source": [
    "data['a':'c'] # Slicing by explicit index"
   ]
  },
  {
   "cell_type": "code",
   "execution_count": 24,
   "metadata": {},
   "outputs": [
    {
     "data": {
      "text/plain": "a    0.25\nb    0.50\ndtype: float64"
     },
     "execution_count": 24,
     "metadata": {},
     "output_type": "execute_result"
    }
   ],
   "source": [
    "data[0:2] # Slicing by implicit index"
   ]
  },
  {
   "cell_type": "code",
   "execution_count": 25,
   "metadata": {},
   "outputs": [
    {
     "data": {
      "text/plain": "b    0.50\nc    0.75\ndtype: float64"
     },
     "execution_count": 25,
     "metadata": {},
     "output_type": "execute_result"
    }
   ],
   "source": [
    "data[(data > 0.3) & (data < 0.8)] # Masking operation"
   ]
  },
  {
   "cell_type": "markdown",
   "metadata": {},
   "source": [
    "## Data Selection in `DataFrame`\n",
    "* `DataFrame` as a dictionary of related `Series` objects: \n",
    " * Select `Series` by the column name, e.g. `df['area']`\n",
    " * Modify the `DataFrame` object with familiar syntax, e.g. `df['c3'] = df['c2']/ df['c1']`"
   ]
  },
  {
   "cell_type": "code",
   "execution_count": 26,
   "metadata": {},
   "outputs": [
    {
     "data": {
      "text/plain": "              area  population\nCalifornia  423967    38332521\nTexas       695662    26448193\nNew York    141297    19651127\nFlorida     170312    19552860\nIllinois    149995    12882135",
      "text/html": "<div>\n<style scoped>\n    .dataframe tbody tr th:only-of-type {\n        vertical-align: middle;\n    }\n\n    .dataframe tbody tr th {\n        vertical-align: top;\n    }\n\n    .dataframe thead th {\n        text-align: right;\n    }\n</style>\n<table border=\"1\" class=\"dataframe\">\n  <thead>\n    <tr style=\"text-align: right;\">\n      <th></th>\n      <th>area</th>\n      <th>population</th>\n    </tr>\n  </thead>\n  <tbody>\n    <tr>\n      <th>California</th>\n      <td>423967</td>\n      <td>38332521</td>\n    </tr>\n    <tr>\n      <th>Texas</th>\n      <td>695662</td>\n      <td>26448193</td>\n    </tr>\n    <tr>\n      <th>New York</th>\n      <td>141297</td>\n      <td>19651127</td>\n    </tr>\n    <tr>\n      <th>Florida</th>\n      <td>170312</td>\n      <td>19552860</td>\n    </tr>\n    <tr>\n      <th>Illinois</th>\n      <td>149995</td>\n      <td>12882135</td>\n    </tr>\n  </tbody>\n</table>\n</div>"
     },
     "execution_count": 26,
     "metadata": {},
     "output_type": "execute_result"
    }
   ],
   "source": [
    "area = pd.Series({'California': 423967, 'Texas': 695662,\n",
    "                  'New York': 141297, 'Florida': 170312,\n",
    "                  'Illinois': 149995})\n",
    "\n",
    "population = pd.Series({'California': 38332521, 'Texas': 26448193,\n",
    "                        'New York': 19651127, 'Florida': 19552860,\n",
    "                        'Illinois': 12882135})\n",
    "\n",
    "data = pd.DataFrame({'area': area, 'population': population})\n",
    "data"
   ]
  },
  {
   "cell_type": "code",
   "execution_count": 27,
   "metadata": {},
   "outputs": [
    {
     "data": {
      "text/plain": "California    423967\nTexas         695662\nNew York      141297\nFlorida       170312\nIllinois      149995\nName: area, dtype: int64"
     },
     "execution_count": 27,
     "metadata": {},
     "output_type": "execute_result"
    }
   ],
   "source": [
    "data['area']"
   ]
  },
  {
   "cell_type": "code",
   "execution_count": 28,
   "metadata": {},
   "outputs": [
    {
     "data": {
      "text/plain": "              area  population     density\nCalifornia  423967    38332521   90.413926\nTexas       695662    26448193   38.018740\nNew York    141297    19651127  139.076746\nFlorida     170312    19552860  114.806121\nIllinois    149995    12882135   85.883763",
      "text/html": "<div>\n<style scoped>\n    .dataframe tbody tr th:only-of-type {\n        vertical-align: middle;\n    }\n\n    .dataframe tbody tr th {\n        vertical-align: top;\n    }\n\n    .dataframe thead th {\n        text-align: right;\n    }\n</style>\n<table border=\"1\" class=\"dataframe\">\n  <thead>\n    <tr style=\"text-align: right;\">\n      <th></th>\n      <th>area</th>\n      <th>population</th>\n      <th>density</th>\n    </tr>\n  </thead>\n  <tbody>\n    <tr>\n      <th>California</th>\n      <td>423967</td>\n      <td>38332521</td>\n      <td>90.413926</td>\n    </tr>\n    <tr>\n      <th>Texas</th>\n      <td>695662</td>\n      <td>26448193</td>\n      <td>38.018740</td>\n    </tr>\n    <tr>\n      <th>New York</th>\n      <td>141297</td>\n      <td>19651127</td>\n      <td>139.076746</td>\n    </tr>\n    <tr>\n      <th>Florida</th>\n      <td>170312</td>\n      <td>19552860</td>\n      <td>114.806121</td>\n    </tr>\n    <tr>\n      <th>Illinois</th>\n      <td>149995</td>\n      <td>12882135</td>\n      <td>85.883763</td>\n    </tr>\n  </tbody>\n</table>\n</div>"
     },
     "execution_count": 28,
     "metadata": {},
     "output_type": "execute_result"
    }
   ],
   "source": [
    "data['density'] = data['population'] / data['area']\n",
    "data"
   ]
  },
  {
   "cell_type": "markdown",
   "metadata": {},
   "source": [
    "* `DataFrame` as two-dimensional array: \n",
    " * Access the underlying NumPy data array by using the `values` attribute\n",
    "   * `df.values[0]` will select the first row\n",
    " * Use the `iloc` indexer to index, slice, and modify the data by using the implicit integer index\n",
    " * Use the `loc` indexer to index, slice, and modify the data by using the explicit index"
   ]
  },
  {
   "cell_type": "code",
   "execution_count": 29,
   "metadata": {},
   "outputs": [
    {
     "data": {
      "text/plain": "array([[4.23967000e+05, 3.83325210e+07, 9.04139261e+01],\n       [6.95662000e+05, 2.64481930e+07, 3.80187404e+01],\n       [1.41297000e+05, 1.96511270e+07, 1.39076746e+02],\n       [1.70312000e+05, 1.95528600e+07, 1.14806121e+02],\n       [1.49995000e+05, 1.28821350e+07, 8.58837628e+01]])"
     },
     "execution_count": 29,
     "metadata": {},
     "output_type": "execute_result"
    }
   ],
   "source": [
    "data.values"
   ]
  },
  {
   "cell_type": "code",
   "execution_count": 30,
   "metadata": {},
   "outputs": [
    {
     "data": {
      "text/plain": "array([4.23967000e+05, 3.83325210e+07, 9.04139261e+01])"
     },
     "execution_count": 30,
     "metadata": {},
     "output_type": "execute_result"
    }
   ],
   "source": [
    "data.values[0]"
   ]
  },
  {
   "cell_type": "code",
   "execution_count": 31,
   "metadata": {},
   "outputs": [
    {
     "data": {
      "text/plain": "              area  population\nCalifornia  423967    38332521\nTexas       695662    26448193\nNew York    141297    19651127",
      "text/html": "<div>\n<style scoped>\n    .dataframe tbody tr th:only-of-type {\n        vertical-align: middle;\n    }\n\n    .dataframe tbody tr th {\n        vertical-align: top;\n    }\n\n    .dataframe thead th {\n        text-align: right;\n    }\n</style>\n<table border=\"1\" class=\"dataframe\">\n  <thead>\n    <tr style=\"text-align: right;\">\n      <th></th>\n      <th>area</th>\n      <th>population</th>\n    </tr>\n  </thead>\n  <tbody>\n    <tr>\n      <th>California</th>\n      <td>423967</td>\n      <td>38332521</td>\n    </tr>\n    <tr>\n      <th>Texas</th>\n      <td>695662</td>\n      <td>26448193</td>\n    </tr>\n    <tr>\n      <th>New York</th>\n      <td>141297</td>\n      <td>19651127</td>\n    </tr>\n  </tbody>\n</table>\n</div>"
     },
     "execution_count": 31,
     "metadata": {},
     "output_type": "execute_result"
    }
   ],
   "source": [
    "data.iloc[:3, :2] # Use implicit indices"
   ]
  },
  {
   "cell_type": "code",
   "execution_count": 32,
   "metadata": {},
   "outputs": [
    {
     "data": {
      "text/plain": "              area  population\nCalifornia  423967    38332521\nTexas       695662    26448193\nNew York    141297    19651127\nFlorida     170312    19552860\nIllinois    149995    12882135",
      "text/html": "<div>\n<style scoped>\n    .dataframe tbody tr th:only-of-type {\n        vertical-align: middle;\n    }\n\n    .dataframe tbody tr th {\n        vertical-align: top;\n    }\n\n    .dataframe thead th {\n        text-align: right;\n    }\n</style>\n<table border=\"1\" class=\"dataframe\">\n  <thead>\n    <tr style=\"text-align: right;\">\n      <th></th>\n      <th>area</th>\n      <th>population</th>\n    </tr>\n  </thead>\n  <tbody>\n    <tr>\n      <th>California</th>\n      <td>423967</td>\n      <td>38332521</td>\n    </tr>\n    <tr>\n      <th>Texas</th>\n      <td>695662</td>\n      <td>26448193</td>\n    </tr>\n    <tr>\n      <th>New York</th>\n      <td>141297</td>\n      <td>19651127</td>\n    </tr>\n    <tr>\n      <th>Florida</th>\n      <td>170312</td>\n      <td>19552860</td>\n    </tr>\n    <tr>\n      <th>Illinois</th>\n      <td>149995</td>\n      <td>12882135</td>\n    </tr>\n  </tbody>\n</table>\n</div>"
     },
     "execution_count": 32,
     "metadata": {},
     "output_type": "execute_result"
    }
   ],
   "source": [
    "data.loc[:'Illinois', :'population'] # Use explicit indices"
   ]
  },
  {
   "cell_type": "code",
   "execution_count": 33,
   "metadata": {
    "scrolled": true
   },
   "outputs": [
    {
     "data": {
      "text/plain": "              area  population     density\nCalifornia  423967    38332521   90.000000\nTexas       695662    26448193   38.018740\nNew York    141297    19651127  139.076746\nFlorida     170312    19552860  114.806121\nIllinois    149995    12882135   85.883763",
      "text/html": "<div>\n<style scoped>\n    .dataframe tbody tr th:only-of-type {\n        vertical-align: middle;\n    }\n\n    .dataframe tbody tr th {\n        vertical-align: top;\n    }\n\n    .dataframe thead th {\n        text-align: right;\n    }\n</style>\n<table border=\"1\" class=\"dataframe\">\n  <thead>\n    <tr style=\"text-align: right;\">\n      <th></th>\n      <th>area</th>\n      <th>population</th>\n      <th>density</th>\n    </tr>\n  </thead>\n  <tbody>\n    <tr>\n      <th>California</th>\n      <td>423967</td>\n      <td>38332521</td>\n      <td>90.000000</td>\n    </tr>\n    <tr>\n      <th>Texas</th>\n      <td>695662</td>\n      <td>26448193</td>\n      <td>38.018740</td>\n    </tr>\n    <tr>\n      <th>New York</th>\n      <td>141297</td>\n      <td>19651127</td>\n      <td>139.076746</td>\n    </tr>\n    <tr>\n      <th>Florida</th>\n      <td>170312</td>\n      <td>19552860</td>\n      <td>114.806121</td>\n    </tr>\n    <tr>\n      <th>Illinois</th>\n      <td>149995</td>\n      <td>12882135</td>\n      <td>85.883763</td>\n    </tr>\n  </tbody>\n</table>\n</div>"
     },
     "execution_count": 33,
     "metadata": {},
     "output_type": "execute_result"
    }
   ],
   "source": [
    "data.iloc[0, 2] = 90\n",
    "data"
   ]
  },
  {
   "cell_type": "markdown",
   "metadata": {},
   "source": [
    "## Ufuncs and Pandas\n",
    "* Pandas is designed to work with Numpy, thus any NumPy ufunc will work on Pandas Series and `DataFrame` objects\n",
    "* _Index preservation_: Indices are preserved when a new Pandas object will come out after applying ufuncs\n",
    "* _Index alignment_: Pandas will align indices in the process of performing an operation\n",
    " * Missing data is marked with `NaN` (\"Not a Number\")\n",
    " * We can specify on how to fill value for any elements that might be missing by using the optional keyword fill_value: `A.add(B, fill_value=0)`\n",
    " * We can also use the `dropna()` method to drop missing values\n",
    "* _Note_: Any of the ufuncs discussed for NumPy can be used in a similar manner with Pandas objects"
   ]
  },
  {
   "cell_type": "markdown",
   "metadata": {},
   "source": [
    "### Ufuncs: Index Preservation"
   ]
  },
  {
   "cell_type": "code",
   "execution_count": 34,
   "metadata": {},
   "outputs": [
    {
     "data": {
      "text/plain": "0    6\n1    3\n2    7\n3    4\ndtype: int32"
     },
     "execution_count": 34,
     "metadata": {},
     "output_type": "execute_result"
    }
   ],
   "source": [
    "rng = np.random.RandomState(42)\n",
    "ser = pd.Series(rng.randint(0, 10, 4))\n",
    "ser"
   ]
  },
  {
   "cell_type": "code",
   "execution_count": 35,
   "metadata": {},
   "outputs": [
    {
     "data": {
      "text/plain": "   A  B  C  D\n0  6  9  2  6\n1  7  4  3  7\n2  7  2  5  4",
      "text/html": "<div>\n<style scoped>\n    .dataframe tbody tr th:only-of-type {\n        vertical-align: middle;\n    }\n\n    .dataframe tbody tr th {\n        vertical-align: top;\n    }\n\n    .dataframe thead th {\n        text-align: right;\n    }\n</style>\n<table border=\"1\" class=\"dataframe\">\n  <thead>\n    <tr style=\"text-align: right;\">\n      <th></th>\n      <th>A</th>\n      <th>B</th>\n      <th>C</th>\n      <th>D</th>\n    </tr>\n  </thead>\n  <tbody>\n    <tr>\n      <th>0</th>\n      <td>6</td>\n      <td>9</td>\n      <td>2</td>\n      <td>6</td>\n    </tr>\n    <tr>\n      <th>1</th>\n      <td>7</td>\n      <td>4</td>\n      <td>3</td>\n      <td>7</td>\n    </tr>\n    <tr>\n      <th>2</th>\n      <td>7</td>\n      <td>2</td>\n      <td>5</td>\n      <td>4</td>\n    </tr>\n  </tbody>\n</table>\n</div>"
     },
     "execution_count": 35,
     "metadata": {},
     "output_type": "execute_result"
    }
   ],
   "source": [
    "df = pd.DataFrame(rng.randint(0, 10, (3, 4)),\n",
    "                  columns=['A', 'B', 'C', 'D'])\n",
    "df"
   ]
  },
  {
   "cell_type": "code",
   "execution_count": 36,
   "metadata": {},
   "outputs": [
    {
     "data": {
      "text/plain": "0     403.428793\n1      20.085537\n2    1096.633158\n3      54.598150\ndtype: float64"
     },
     "execution_count": 36,
     "metadata": {},
     "output_type": "execute_result"
    }
   ],
   "source": [
    "np.exp(ser)"
   ]
  },
  {
   "cell_type": "code",
   "execution_count": 37,
   "metadata": {},
   "outputs": [
    {
     "data": {
      "text/plain": "          A             B         C             D\n0 -1.000000  7.071068e-01  1.000000 -1.000000e+00\n1 -0.707107  1.224647e-16  0.707107 -7.071068e-01\n2 -0.707107  1.000000e+00 -0.707107  1.224647e-16",
      "text/html": "<div>\n<style scoped>\n    .dataframe tbody tr th:only-of-type {\n        vertical-align: middle;\n    }\n\n    .dataframe tbody tr th {\n        vertical-align: top;\n    }\n\n    .dataframe thead th {\n        text-align: right;\n    }\n</style>\n<table border=\"1\" class=\"dataframe\">\n  <thead>\n    <tr style=\"text-align: right;\">\n      <th></th>\n      <th>A</th>\n      <th>B</th>\n      <th>C</th>\n      <th>D</th>\n    </tr>\n  </thead>\n  <tbody>\n    <tr>\n      <th>0</th>\n      <td>-1.000000</td>\n      <td>7.071068e-01</td>\n      <td>1.000000</td>\n      <td>-1.000000e+00</td>\n    </tr>\n    <tr>\n      <th>1</th>\n      <td>-0.707107</td>\n      <td>1.224647e-16</td>\n      <td>0.707107</td>\n      <td>-7.071068e-01</td>\n    </tr>\n    <tr>\n      <th>2</th>\n      <td>-0.707107</td>\n      <td>1.000000e+00</td>\n      <td>-0.707107</td>\n      <td>1.224647e-16</td>\n    </tr>\n  </tbody>\n</table>\n</div>"
     },
     "execution_count": 37,
     "metadata": {},
     "output_type": "execute_result"
    }
   ],
   "source": [
    "np.sin(df * np.pi / 4)"
   ]
  },
  {
   "cell_type": "markdown",
   "metadata": {},
   "source": [
    "### Ufuncs: Index Alignment"
   ]
  },
  {
   "cell_type": "code",
   "execution_count": 38,
   "metadata": {},
   "outputs": [],
   "source": [
    "area = pd.Series({'Alaska': 1723337, 'Texas': 695662,\n",
    "                  'California': 423967}, name='area')\n",
    "\n",
    "population = pd.Series({'California': 38332521, 'Texas': 26448193,\n",
    "                        'New York': 19651127}, name='population')\n"
   ]
  },
  {
   "cell_type": "code",
   "execution_count": 39,
   "metadata": {},
   "outputs": [
    {
     "data": {
      "text/plain": "Alaska              NaN\nCalifornia    90.413926\nNew York            NaN\nTexas         38.018740\ndtype: float64"
     },
     "execution_count": 39,
     "metadata": {},
     "output_type": "execute_result"
    }
   ],
   "source": [
    "population / area"
   ]
  },
  {
   "cell_type": "code",
   "execution_count": 40,
   "metadata": {},
   "outputs": [
    {
     "data": {
      "text/plain": "California    90.413926\nTexas         38.018740\ndtype: float64"
     },
     "execution_count": 40,
     "metadata": {},
     "output_type": "execute_result"
    }
   ],
   "source": [
    "(population / area).dropna()"
   ]
  },
  {
   "cell_type": "code",
   "execution_count": 41,
   "metadata": {},
   "outputs": [
    {
     "data": {
      "text/plain": "   A   B\n0  1  11\n1  5   1",
      "text/html": "<div>\n<style scoped>\n    .dataframe tbody tr th:only-of-type {\n        vertical-align: middle;\n    }\n\n    .dataframe tbody tr th {\n        vertical-align: top;\n    }\n\n    .dataframe thead th {\n        text-align: right;\n    }\n</style>\n<table border=\"1\" class=\"dataframe\">\n  <thead>\n    <tr style=\"text-align: right;\">\n      <th></th>\n      <th>A</th>\n      <th>B</th>\n    </tr>\n  </thead>\n  <tbody>\n    <tr>\n      <th>0</th>\n      <td>1</td>\n      <td>11</td>\n    </tr>\n    <tr>\n      <th>1</th>\n      <td>5</td>\n      <td>1</td>\n    </tr>\n  </tbody>\n</table>\n</div>"
     },
     "execution_count": 41,
     "metadata": {},
     "output_type": "execute_result"
    }
   ],
   "source": [
    "A = pd.DataFrame(rng.randint(0, 20, (2, 2)), columns=list('AB'))\n",
    "A"
   ]
  },
  {
   "cell_type": "code",
   "execution_count": 42,
   "metadata": {},
   "outputs": [
    {
     "data": {
      "text/plain": "   B  A  C\n0  4  0  9\n1  5  8  0\n2  9  2  6",
      "text/html": "<div>\n<style scoped>\n    .dataframe tbody tr th:only-of-type {\n        vertical-align: middle;\n    }\n\n    .dataframe tbody tr th {\n        vertical-align: top;\n    }\n\n    .dataframe thead th {\n        text-align: right;\n    }\n</style>\n<table border=\"1\" class=\"dataframe\">\n  <thead>\n    <tr style=\"text-align: right;\">\n      <th></th>\n      <th>B</th>\n      <th>A</th>\n      <th>C</th>\n    </tr>\n  </thead>\n  <tbody>\n    <tr>\n      <th>0</th>\n      <td>4</td>\n      <td>0</td>\n      <td>9</td>\n    </tr>\n    <tr>\n      <th>1</th>\n      <td>5</td>\n      <td>8</td>\n      <td>0</td>\n    </tr>\n    <tr>\n      <th>2</th>\n      <td>9</td>\n      <td>2</td>\n      <td>6</td>\n    </tr>\n  </tbody>\n</table>\n</div>"
     },
     "execution_count": 42,
     "metadata": {},
     "output_type": "execute_result"
    }
   ],
   "source": [
    "B = pd.DataFrame(rng.randint(0, 10, (3, 3)), columns=list('BAC'))\n",
    "B"
   ]
  },
  {
   "cell_type": "code",
   "execution_count": 43,
   "metadata": {},
   "outputs": [
    {
     "data": {
      "text/plain": "      A     B   C\n0   1.0  15.0 NaN\n1  13.0   6.0 NaN\n2   NaN   NaN NaN",
      "text/html": "<div>\n<style scoped>\n    .dataframe tbody tr th:only-of-type {\n        vertical-align: middle;\n    }\n\n    .dataframe tbody tr th {\n        vertical-align: top;\n    }\n\n    .dataframe thead th {\n        text-align: right;\n    }\n</style>\n<table border=\"1\" class=\"dataframe\">\n  <thead>\n    <tr style=\"text-align: right;\">\n      <th></th>\n      <th>A</th>\n      <th>B</th>\n      <th>C</th>\n    </tr>\n  </thead>\n  <tbody>\n    <tr>\n      <th>0</th>\n      <td>1.0</td>\n      <td>15.0</td>\n      <td>NaN</td>\n    </tr>\n    <tr>\n      <th>1</th>\n      <td>13.0</td>\n      <td>6.0</td>\n      <td>NaN</td>\n    </tr>\n    <tr>\n      <th>2</th>\n      <td>NaN</td>\n      <td>NaN</td>\n      <td>NaN</td>\n    </tr>\n  </tbody>\n</table>\n</div>"
     },
     "execution_count": 43,
     "metadata": {},
     "output_type": "execute_result"
    }
   ],
   "source": [
    "A + B"
   ]
  },
  {
   "cell_type": "code",
   "execution_count": 44,
   "metadata": {},
   "outputs": [
    {
     "data": {
      "text/plain": "      A     B     C\n0   1.0  15.0  12.0\n1  13.0   6.0   3.0\n2   5.0  12.0   9.0",
      "text/html": "<div>\n<style scoped>\n    .dataframe tbody tr th:only-of-type {\n        vertical-align: middle;\n    }\n\n    .dataframe tbody tr th {\n        vertical-align: top;\n    }\n\n    .dataframe thead th {\n        text-align: right;\n    }\n</style>\n<table border=\"1\" class=\"dataframe\">\n  <thead>\n    <tr style=\"text-align: right;\">\n      <th></th>\n      <th>A</th>\n      <th>B</th>\n      <th>C</th>\n    </tr>\n  </thead>\n  <tbody>\n    <tr>\n      <th>0</th>\n      <td>1.0</td>\n      <td>15.0</td>\n      <td>12.0</td>\n    </tr>\n    <tr>\n      <th>1</th>\n      <td>13.0</td>\n      <td>6.0</td>\n      <td>3.0</td>\n    </tr>\n    <tr>\n      <th>2</th>\n      <td>5.0</td>\n      <td>12.0</td>\n      <td>9.0</td>\n    </tr>\n  </tbody>\n</table>\n</div>"
     },
     "execution_count": 44,
     "metadata": {},
     "output_type": "execute_result"
    }
   ],
   "source": [
    "A.add(B, fill_value=3)"
   ]
  },
  {
   "cell_type": "markdown",
   "metadata": {},
   "source": [
    "## Ufuncs: Operations Between DataFrame and Series\n",
    "* Operations between a `DataFrame` and a `Series` are similar to operations between a two-dimensional and one-dimensional NumPy array (e.g., compute the difference of a two-dimensional array and one of its rows)"
   ]
  },
  {
   "cell_type": "code",
   "execution_count": 45,
   "metadata": {},
   "outputs": [
    {
     "data": {
      "text/plain": "array([[8, 8, 6, 2],\n       [8, 7, 2, 1],\n       [5, 4, 4, 5]])"
     },
     "execution_count": 45,
     "metadata": {},
     "output_type": "execute_result"
    }
   ],
   "source": [
    "rng = np.random.RandomState(2)\n",
    "A = rng.randint(10, size=(3, 4))\n",
    "A"
   ]
  },
  {
   "cell_type": "code",
   "execution_count": 46,
   "metadata": {},
   "outputs": [
    {
     "data": {
      "text/plain": "array([[ 0,  0,  0,  0],\n       [ 0, -1, -4, -1],\n       [-3, -4, -2,  3]])"
     },
     "execution_count": 46,
     "metadata": {},
     "output_type": "execute_result"
    }
   ],
   "source": [
    "A - A[0] # Subtract the first row of A from A itself"
   ]
  },
  {
   "cell_type": "code",
   "execution_count": 47,
   "metadata": {},
   "outputs": [
    {
     "data": {
      "text/plain": "array([[7, 3, 6, 4],\n       [3, 7, 6, 1],\n       [3, 5, 8, 4]])"
     },
     "execution_count": 47,
     "metadata": {},
     "output_type": "execute_result"
    }
   ],
   "source": [
    "B = rng.randint(10, size=(3, 4))\n",
    "B"
   ]
  },
  {
   "cell_type": "code",
   "execution_count": 48,
   "metadata": {},
   "outputs": [
    {
     "data": {
      "text/plain": "   Q  R  S  T\n0  7  3  6  4\n1  3  7  6  1\n2  3  5  8  4",
      "text/html": "<div>\n<style scoped>\n    .dataframe tbody tr th:only-of-type {\n        vertical-align: middle;\n    }\n\n    .dataframe tbody tr th {\n        vertical-align: top;\n    }\n\n    .dataframe thead th {\n        text-align: right;\n    }\n</style>\n<table border=\"1\" class=\"dataframe\">\n  <thead>\n    <tr style=\"text-align: right;\">\n      <th></th>\n      <th>Q</th>\n      <th>R</th>\n      <th>S</th>\n      <th>T</th>\n    </tr>\n  </thead>\n  <tbody>\n    <tr>\n      <th>0</th>\n      <td>7</td>\n      <td>3</td>\n      <td>6</td>\n      <td>4</td>\n    </tr>\n    <tr>\n      <th>1</th>\n      <td>3</td>\n      <td>7</td>\n      <td>6</td>\n      <td>1</td>\n    </tr>\n    <tr>\n      <th>2</th>\n      <td>3</td>\n      <td>5</td>\n      <td>8</td>\n      <td>4</td>\n    </tr>\n  </tbody>\n</table>\n</div>"
     },
     "execution_count": 48,
     "metadata": {},
     "output_type": "execute_result"
    }
   ],
   "source": [
    "df = pd.DataFrame(B, columns=list('QRST'))\n",
    "df"
   ]
  },
  {
   "cell_type": "code",
   "execution_count": 49,
   "metadata": {},
   "outputs": [
    {
     "data": {
      "text/plain": "   Q  R  S  T\n0  0  0  0  0\n1 -4  4  0 -3\n2 -4  2  2  0",
      "text/html": "<div>\n<style scoped>\n    .dataframe tbody tr th:only-of-type {\n        vertical-align: middle;\n    }\n\n    .dataframe tbody tr th {\n        vertical-align: top;\n    }\n\n    .dataframe thead th {\n        text-align: right;\n    }\n</style>\n<table border=\"1\" class=\"dataframe\">\n  <thead>\n    <tr style=\"text-align: right;\">\n      <th></th>\n      <th>Q</th>\n      <th>R</th>\n      <th>S</th>\n      <th>T</th>\n    </tr>\n  </thead>\n  <tbody>\n    <tr>\n      <th>0</th>\n      <td>0</td>\n      <td>0</td>\n      <td>0</td>\n      <td>0</td>\n    </tr>\n    <tr>\n      <th>1</th>\n      <td>-4</td>\n      <td>4</td>\n      <td>0</td>\n      <td>-3</td>\n    </tr>\n    <tr>\n      <th>2</th>\n      <td>-4</td>\n      <td>2</td>\n      <td>2</td>\n      <td>0</td>\n    </tr>\n  </tbody>\n</table>\n</div>"
     },
     "execution_count": 49,
     "metadata": {},
     "output_type": "execute_result"
    }
   ],
   "source": [
    "df - df.iloc[0]"
   ]
  },
  {
   "cell_type": "code",
   "execution_count": 50,
   "metadata": {},
   "outputs": [
    {
     "data": {
      "text/plain": "   Q  R  S  T\n0  4  0  3  1\n1 -4  0 -1 -6\n2 -2  0  3 -1",
      "text/html": "<div>\n<style scoped>\n    .dataframe tbody tr th:only-of-type {\n        vertical-align: middle;\n    }\n\n    .dataframe tbody tr th {\n        vertical-align: top;\n    }\n\n    .dataframe thead th {\n        text-align: right;\n    }\n</style>\n<table border=\"1\" class=\"dataframe\">\n  <thead>\n    <tr style=\"text-align: right;\">\n      <th></th>\n      <th>Q</th>\n      <th>R</th>\n      <th>S</th>\n      <th>T</th>\n    </tr>\n  </thead>\n  <tbody>\n    <tr>\n      <th>0</th>\n      <td>4</td>\n      <td>0</td>\n      <td>3</td>\n      <td>1</td>\n    </tr>\n    <tr>\n      <th>1</th>\n      <td>-4</td>\n      <td>0</td>\n      <td>-1</td>\n      <td>-6</td>\n    </tr>\n    <tr>\n      <th>2</th>\n      <td>-2</td>\n      <td>0</td>\n      <td>3</td>\n      <td>-1</td>\n    </tr>\n  </tbody>\n</table>\n</div>"
     },
     "execution_count": 50,
     "metadata": {},
     "output_type": "execute_result"
    }
   ],
   "source": [
    "df.subtract(df['R'], axis=0) # We can also subtract column-wise"
   ]
  },
  {
   "cell_type": "markdown",
   "metadata": {},
   "source": [
    "## Reading and Writing Data with Pandas\n",
    "### File Types\n",
    "* We will work with _plaintext files_ only in this session; these contain only basic text characters and do not include font, size, or color information\n",
    " * _Binary files_ are all other file types, such as PDFs, images, executable programs etc.\n",
    " \n",
    "### The Current Working Directory\n",
    "* Every program that runs on your computer has a _current working directory_\n",
    " * It's the directory from where the program is executed / run\n",
    " * _Folder_ is the more modern name for a directory\n",
    "* The _root_ directory is the top-most directory and is addressed by `/` \n",
    " * A directory `mydir1` in the root directory can be addressed by `/mydir1`\n",
    " * A directory `mydir2` within the `mydir1` directory can be address by `/mydir/mydir2`, and so on\n",
    " \n",
    "### Absolute and Relative Paths\n",
    "* An _absolute path_ begins always with the root folder, e.g. `/my/path/...`\n",
    "* A _relative path_ is always relative to the program's current working directory\n",
    " * If a program's current working directory is `/myprogram` and the directory contains a folder files with a file `test.txt`, then the relative path to that file is just `files/test.txt` \n",
    " * The absolute path to `test.txt` would be `/myprogram/files/test.txt` (note the root folder `/`)"
   ]
  },
  {
   "cell_type": "code",
   "execution_count": 51,
   "metadata": {},
   "outputs": [
    {
     "name": "stdout",
     "output_type": "stream",
     "text": [
      " Volume in drive C is Boot\n",
      " Volume Serial Number is 70FD-EE1E\n",
      "\n",
      " Directory of C:\\Users\\buban\\Documents\\appf-uzh\n",
      "\n",
      "\n",
      " Directory of C:\\Users\\buban\\Documents\\appf-uzh\n",
      "\n",
      "\n",
      " Directory of C:\\Users\\buban\\Documents\\appf-uzh\n",
      "\n",
      "\n",
      " Directory of C:\\Users\\buban\\Documents\\appf-uzh\n",
      "\n",
      "\n",
      " Directory of C:\\Users\\buban\\Documents\\appf-uzh\n",
      "\n",
      "\n",
      " Directory of C:\\Users\\buban\\Documents\\appf-uzh\n",
      "\n",
      "\n",
      " Directory of C:\\Users\\buban\\Documents\\appf-uzh\n",
      "\n",
      "\n",
      " Directory of C:\\Users\\buban\\Documents\\appf-uzh\n",
      "\n"
     ]
    },
    {
     "name": "stderr",
     "output_type": "stream",
     "text": [
      "File Not Found\n"
     ]
    }
   ],
   "source": [
    "!dir # List folder content for current working directory"
   ]
  },
  {
   "cell_type": "code",
   "execution_count": 52,
   "metadata": {},
   "outputs": [
    {
     "name": "stdout",
     "output_type": "stream",
     "text": [
      "C:\\Users\\buban\\Documents\\appf-uzh\n"
     ]
    }
   ],
   "source": [
    "!cd"
   ]
  },
  {
   "cell_type": "markdown",
   "metadata": {},
   "source": [
    "### Reading Data with Pandas\n",
    "* Pandas provides the `pandas.read_csv()` function to load data from a CSV file (or a file that uses a different delimiter than a comma)\n",
    " * The path you specify doesn't have to be on your hard disk; you can also provide the URL to a CSV file to read it directly into a Pandas object\n",
    " * We can set the optional argument `error_bad_lines` to `False` so that bad lines in the file get omitted and do not cause an error\n",
    " * Checkout the documentation to learn more about the optional arguments:<br>https://pandas.pydata.org/pandas-docs/stable/generated/pandas.read_csv.html\n",
    " \n",
    "**Planets Data**: The _Planets_ dataset (available from the Seaborn package or the [`seaborn-data` repository](https://github.com/mwaskom/seaborn-data)) gives information on planets that astronomers have discovered around other stars (known as extrasolar planets or exoplanets for short). The file contains details on the 1000+ exoplanets discovered up to 2014.\n"
   ]
  },
  {
   "cell_type": "code",
   "execution_count": 53,
   "metadata": {},
   "outputs": [],
   "source": [
    "# if needed, when you get an ssl error, uncomment below lines\n",
    "# import ssl\n",
    "# ssl._create_default_https_context = ssl._create_unverified_context\n",
    "planets = pd.read_csv(\"https://raw.githubusercontent.com/mwaskom/seaborn-data/master/planets.csv\")"
   ]
  },
  {
   "cell_type": "code",
   "execution_count": 54,
   "metadata": {},
   "outputs": [
    {
     "data": {
      "text/plain": "(1035, 6)"
     },
     "execution_count": 54,
     "metadata": {},
     "output_type": "execute_result"
    }
   ],
   "source": [
    "planets.shape"
   ]
  },
  {
   "cell_type": "code",
   "execution_count": 55,
   "metadata": {},
   "outputs": [
    {
     "data": {
      "text/plain": "            method  number  orbital_period   mass  distance  year\n0  Radial Velocity       1         269.300   7.10     77.40  2006\n1  Radial Velocity       1         874.774   2.21     56.95  2008\n2  Radial Velocity       1         763.000   2.60     19.84  2011\n3  Radial Velocity       1         326.030  19.40    110.62  2007\n4  Radial Velocity       1         516.220  10.50    119.47  2009",
      "text/html": "<div>\n<style scoped>\n    .dataframe tbody tr th:only-of-type {\n        vertical-align: middle;\n    }\n\n    .dataframe tbody tr th {\n        vertical-align: top;\n    }\n\n    .dataframe thead th {\n        text-align: right;\n    }\n</style>\n<table border=\"1\" class=\"dataframe\">\n  <thead>\n    <tr style=\"text-align: right;\">\n      <th></th>\n      <th>method</th>\n      <th>number</th>\n      <th>orbital_period</th>\n      <th>mass</th>\n      <th>distance</th>\n      <th>year</th>\n    </tr>\n  </thead>\n  <tbody>\n    <tr>\n      <th>0</th>\n      <td>Radial Velocity</td>\n      <td>1</td>\n      <td>269.300</td>\n      <td>7.10</td>\n      <td>77.40</td>\n      <td>2006</td>\n    </tr>\n    <tr>\n      <th>1</th>\n      <td>Radial Velocity</td>\n      <td>1</td>\n      <td>874.774</td>\n      <td>2.21</td>\n      <td>56.95</td>\n      <td>2008</td>\n    </tr>\n    <tr>\n      <th>2</th>\n      <td>Radial Velocity</td>\n      <td>1</td>\n      <td>763.000</td>\n      <td>2.60</td>\n      <td>19.84</td>\n      <td>2011</td>\n    </tr>\n    <tr>\n      <th>3</th>\n      <td>Radial Velocity</td>\n      <td>1</td>\n      <td>326.030</td>\n      <td>19.40</td>\n      <td>110.62</td>\n      <td>2007</td>\n    </tr>\n    <tr>\n      <th>4</th>\n      <td>Radial Velocity</td>\n      <td>1</td>\n      <td>516.220</td>\n      <td>10.50</td>\n      <td>119.47</td>\n      <td>2009</td>\n    </tr>\n  </tbody>\n</table>\n</div>"
     },
     "execution_count": 55,
     "metadata": {},
     "output_type": "execute_result"
    }
   ],
   "source": [
    "planets.head()"
   ]
  },
  {
   "cell_type": "code",
   "execution_count": 56,
   "metadata": {},
   "outputs": [
    {
     "data": {
      "text/plain": "          number  orbital_period        mass    distance         year\ncount  498.00000      498.000000  498.000000  498.000000   498.000000\nmean     1.73494      835.778671    2.509320   52.068213  2007.377510\nstd      1.17572     1469.128259    3.636274   46.596041     4.167284\nmin      1.00000        1.328300    0.003600    1.350000  1989.000000\n25%      1.00000       38.272250    0.212500   24.497500  2005.000000\n50%      1.00000      357.000000    1.245000   39.940000  2009.000000\n75%      2.00000      999.600000    2.867500   59.332500  2011.000000\nmax      6.00000    17337.500000   25.000000  354.000000  2014.000000",
      "text/html": "<div>\n<style scoped>\n    .dataframe tbody tr th:only-of-type {\n        vertical-align: middle;\n    }\n\n    .dataframe tbody tr th {\n        vertical-align: top;\n    }\n\n    .dataframe thead th {\n        text-align: right;\n    }\n</style>\n<table border=\"1\" class=\"dataframe\">\n  <thead>\n    <tr style=\"text-align: right;\">\n      <th></th>\n      <th>number</th>\n      <th>orbital_period</th>\n      <th>mass</th>\n      <th>distance</th>\n      <th>year</th>\n    </tr>\n  </thead>\n  <tbody>\n    <tr>\n      <th>count</th>\n      <td>498.00000</td>\n      <td>498.000000</td>\n      <td>498.000000</td>\n      <td>498.000000</td>\n      <td>498.000000</td>\n    </tr>\n    <tr>\n      <th>mean</th>\n      <td>1.73494</td>\n      <td>835.778671</td>\n      <td>2.509320</td>\n      <td>52.068213</td>\n      <td>2007.377510</td>\n    </tr>\n    <tr>\n      <th>std</th>\n      <td>1.17572</td>\n      <td>1469.128259</td>\n      <td>3.636274</td>\n      <td>46.596041</td>\n      <td>4.167284</td>\n    </tr>\n    <tr>\n      <th>min</th>\n      <td>1.00000</td>\n      <td>1.328300</td>\n      <td>0.003600</td>\n      <td>1.350000</td>\n      <td>1989.000000</td>\n    </tr>\n    <tr>\n      <th>25%</th>\n      <td>1.00000</td>\n      <td>38.272250</td>\n      <td>0.212500</td>\n      <td>24.497500</td>\n      <td>2005.000000</td>\n    </tr>\n    <tr>\n      <th>50%</th>\n      <td>1.00000</td>\n      <td>357.000000</td>\n      <td>1.245000</td>\n      <td>39.940000</td>\n      <td>2009.000000</td>\n    </tr>\n    <tr>\n      <th>75%</th>\n      <td>2.00000</td>\n      <td>999.600000</td>\n      <td>2.867500</td>\n      <td>59.332500</td>\n      <td>2011.000000</td>\n    </tr>\n    <tr>\n      <th>max</th>\n      <td>6.00000</td>\n      <td>17337.500000</td>\n      <td>25.000000</td>\n      <td>354.000000</td>\n      <td>2014.000000</td>\n    </tr>\n  </tbody>\n</table>\n</div>"
     },
     "execution_count": 56,
     "metadata": {},
     "output_type": "execute_result"
    }
   ],
   "source": [
    "planets.dropna().describe()"
   ]
  },
  {
   "cell_type": "markdown",
   "metadata": {},
   "source": [
    "### Some Interesting Data Sources\n",
    "* Federal Statistical Office: https://www.bfs.admin.ch/bfs/en/home/statistics/catalogues-databases/data.html \n",
    "* OpenData: https://opendata.swiss/en/ \n",
    "* United Nations: http://data.un.org/ \n",
    "* World Health Organization: http://apps.who.int/gho/data/node.home \n",
    "* World Bank: https://data.worldbank.org/ \n",
    "* Kaggle: https://www.kaggle.com/datasets \n",
    "* Cern: http://opendata.cern.ch/\n",
    "* Nasa: https://data.nasa.gov/ \n",
    "* FiveThirtyEight: https://github.com/fivethirtyeight/data "
   ]
  },
  {
   "cell_type": "markdown",
   "metadata": {},
   "source": [
    "## Aggregating and Grouping Data in Pandas"
   ]
  },
  {
   "cell_type": "markdown",
   "metadata": {},
   "source": [
    "### Simple Aggregation in Pandas\n",
    "* As with one-dimensional NumPy array, for a Pandas `Series` the aggregates return a single value\n",
    "* For a `DataFrame`, the aggregates return by default results within each column\n",
    "* Pandas `Series` and `DataFrames` include all of the common NumPy aggregates\n",
    " * In addition, there is a convenience method `describe()` that computes several common aggregates for each column and returns the result"
   ]
  },
  {
   "cell_type": "code",
   "execution_count": 57,
   "metadata": {},
   "outputs": [
    {
     "data": {
      "text/plain": "0    0.550798\n1    0.708148\n2    0.290905\n3    0.510828\n4    0.892947\ndtype: float64"
     },
     "execution_count": 57,
     "metadata": {},
     "output_type": "execute_result"
    }
   ],
   "source": [
    "rng = np.random.RandomState(3)\n",
    "ser = pd.Series(rng.rand(5))\n",
    "ser"
   ]
  },
  {
   "cell_type": "code",
   "execution_count": 58,
   "metadata": {},
   "outputs": [
    {
     "data": {
      "text/plain": "2.9536250236509423"
     },
     "execution_count": 58,
     "metadata": {},
     "output_type": "execute_result"
    }
   ],
   "source": [
    "ser.sum()"
   ]
  },
  {
   "cell_type": "code",
   "execution_count": 59,
   "metadata": {},
   "outputs": [
    {
     "data": {
      "text/plain": "0.5907250047301884"
     },
     "execution_count": 59,
     "metadata": {},
     "output_type": "execute_result"
    }
   ],
   "source": [
    "ser.mean()"
   ]
  },
  {
   "cell_type": "code",
   "execution_count": 60,
   "metadata": {},
   "outputs": [
    {
     "data": {
      "text/plain": "          A         B\n0  0.896293  0.029876\n1  0.125585  0.456833\n2  0.207243  0.649144\n3  0.051467  0.278487\n4  0.440810  0.676255",
      "text/html": "<div>\n<style scoped>\n    .dataframe tbody tr th:only-of-type {\n        vertical-align: middle;\n    }\n\n    .dataframe tbody tr th {\n        vertical-align: top;\n    }\n\n    .dataframe thead th {\n        text-align: right;\n    }\n</style>\n<table border=\"1\" class=\"dataframe\">\n  <thead>\n    <tr style=\"text-align: right;\">\n      <th></th>\n      <th>A</th>\n      <th>B</th>\n    </tr>\n  </thead>\n  <tbody>\n    <tr>\n      <th>0</th>\n      <td>0.896293</td>\n      <td>0.029876</td>\n    </tr>\n    <tr>\n      <th>1</th>\n      <td>0.125585</td>\n      <td>0.456833</td>\n    </tr>\n    <tr>\n      <th>2</th>\n      <td>0.207243</td>\n      <td>0.649144</td>\n    </tr>\n    <tr>\n      <th>3</th>\n      <td>0.051467</td>\n      <td>0.278487</td>\n    </tr>\n    <tr>\n      <th>4</th>\n      <td>0.440810</td>\n      <td>0.676255</td>\n    </tr>\n  </tbody>\n</table>\n</div>"
     },
     "execution_count": 60,
     "metadata": {},
     "output_type": "execute_result"
    }
   ],
   "source": [
    "df = pd.DataFrame({'A': rng.rand(5), 'B': rng.rand(5)})\n",
    "df"
   ]
  },
  {
   "cell_type": "code",
   "execution_count": 61,
   "metadata": {},
   "outputs": [
    {
     "data": {
      "text/plain": "A    0.344280\nB    0.418119\ndtype: float64"
     },
     "execution_count": 61,
     "metadata": {},
     "output_type": "execute_result"
    }
   ],
   "source": [
    "df.mean()"
   ]
  },
  {
   "cell_type": "code",
   "execution_count": 62,
   "metadata": {},
   "outputs": [
    {
     "data": {
      "text/plain": "0    0.463085\n1    0.291209\n2    0.428193\n3    0.164977\n4    0.558532\ndtype: float64"
     },
     "execution_count": 62,
     "metadata": {},
     "output_type": "execute_result"
    }
   ],
   "source": [
    "df.mean(axis='columns')"
   ]
  },
  {
   "cell_type": "code",
   "execution_count": 63,
   "metadata": {},
   "outputs": [
    {
     "data": {
      "text/plain": "              A         B\ncount  5.000000  5.000000\nmean   0.344280  0.418119\nstd    0.341461  0.270062\nmin    0.051467  0.029876\n25%    0.125585  0.278487\n50%    0.207243  0.456833\n75%    0.440810  0.649144\nmax    0.896293  0.676255",
      "text/html": "<div>\n<style scoped>\n    .dataframe tbody tr th:only-of-type {\n        vertical-align: middle;\n    }\n\n    .dataframe tbody tr th {\n        vertical-align: top;\n    }\n\n    .dataframe thead th {\n        text-align: right;\n    }\n</style>\n<table border=\"1\" class=\"dataframe\">\n  <thead>\n    <tr style=\"text-align: right;\">\n      <th></th>\n      <th>A</th>\n      <th>B</th>\n    </tr>\n  </thead>\n  <tbody>\n    <tr>\n      <th>count</th>\n      <td>5.000000</td>\n      <td>5.000000</td>\n    </tr>\n    <tr>\n      <th>mean</th>\n      <td>0.344280</td>\n      <td>0.418119</td>\n    </tr>\n    <tr>\n      <th>std</th>\n      <td>0.341461</td>\n      <td>0.270062</td>\n    </tr>\n    <tr>\n      <th>min</th>\n      <td>0.051467</td>\n      <td>0.029876</td>\n    </tr>\n    <tr>\n      <th>25%</th>\n      <td>0.125585</td>\n      <td>0.278487</td>\n    </tr>\n    <tr>\n      <th>50%</th>\n      <td>0.207243</td>\n      <td>0.456833</td>\n    </tr>\n    <tr>\n      <th>75%</th>\n      <td>0.440810</td>\n      <td>0.649144</td>\n    </tr>\n    <tr>\n      <th>max</th>\n      <td>0.896293</td>\n      <td>0.676255</td>\n    </tr>\n  </tbody>\n</table>\n</div>"
     },
     "execution_count": 63,
     "metadata": {},
     "output_type": "execute_result"
    }
   ],
   "source": [
    "df.describe()"
   ]
  },
  {
   "cell_type": "markdown",
   "metadata": {},
   "source": [
    "### Split, Apply, Combine\n",
    "* _Split_: Break up and group a DataFrame depending on the value of the specified key\n",
    "* _Apply_: Apply some function, usually an aggregate, transformation, or filtering, within the individual groups\n",
    "* _Combine_: Merge the results of these operations into an output array"
   ]
  },
  {
   "cell_type": "markdown",
   "metadata": {},
   "source": [
    "### The `GroupBy` Object\n",
    "* The `groupBy()` method returns a `DataFrameGroupBy`: It's a special view of the `DataFrame`\n",
    " * Helps get information about the groups, but does no actual computation until the aggregation is applied (\"lazy evaluation\", i.e. evaluate only when needed)\n",
    " * Apply an aggregate to this `DataFrameGroupBy` object: This will perform the appropriate apply/combine steps to produce the desired result\n",
    "   * You can apply any Pandas or NumPy aggregation function\n",
    " * Other important operations made available by a `GroupBy` are _filter_, _transform_, and _apply_\n"
   ]
  },
  {
   "cell_type": "code",
   "execution_count": 64,
   "metadata": {},
   "outputs": [
    {
     "data": {
      "text/plain": "  key  data\n0   A     1\n1   B     2\n2   C     3\n3   A     4\n4   B     5\n5   C     6",
      "text/html": "<div>\n<style scoped>\n    .dataframe tbody tr th:only-of-type {\n        vertical-align: middle;\n    }\n\n    .dataframe tbody tr th {\n        vertical-align: top;\n    }\n\n    .dataframe thead th {\n        text-align: right;\n    }\n</style>\n<table border=\"1\" class=\"dataframe\">\n  <thead>\n    <tr style=\"text-align: right;\">\n      <th></th>\n      <th>key</th>\n      <th>data</th>\n    </tr>\n  </thead>\n  <tbody>\n    <tr>\n      <th>0</th>\n      <td>A</td>\n      <td>1</td>\n    </tr>\n    <tr>\n      <th>1</th>\n      <td>B</td>\n      <td>2</td>\n    </tr>\n    <tr>\n      <th>2</th>\n      <td>C</td>\n      <td>3</td>\n    </tr>\n    <tr>\n      <th>3</th>\n      <td>A</td>\n      <td>4</td>\n    </tr>\n    <tr>\n      <th>4</th>\n      <td>B</td>\n      <td>5</td>\n    </tr>\n    <tr>\n      <th>5</th>\n      <td>C</td>\n      <td>6</td>\n    </tr>\n  </tbody>\n</table>\n</div>"
     },
     "execution_count": 64,
     "metadata": {},
     "output_type": "execute_result"
    }
   ],
   "source": [
    "df = pd.DataFrame({'key': ['A', 'B', 'C', 'A', 'B', 'C'], 'data': range(1,7)})\n",
    "df"
   ]
  },
  {
   "cell_type": "code",
   "execution_count": 65,
   "metadata": {},
   "outputs": [
    {
     "data": {
      "text/plain": "{'A': Int64Index([0, 3], dtype='int64'),\n 'B': Int64Index([1, 4], dtype='int64'),\n 'C': Int64Index([2, 5], dtype='int64')}"
     },
     "execution_count": 65,
     "metadata": {},
     "output_type": "execute_result"
    }
   ],
   "source": [
    "groupby_key = df.groupby('key')\n",
    "groupby_key.groups"
   ]
  },
  {
   "cell_type": "code",
   "execution_count": 66,
   "metadata": {},
   "outputs": [
    {
     "data": {
      "text/plain": "     data\nkey      \nA       5\nB       7\nC       9",
      "text/html": "<div>\n<style scoped>\n    .dataframe tbody tr th:only-of-type {\n        vertical-align: middle;\n    }\n\n    .dataframe tbody tr th {\n        vertical-align: top;\n    }\n\n    .dataframe thead th {\n        text-align: right;\n    }\n</style>\n<table border=\"1\" class=\"dataframe\">\n  <thead>\n    <tr style=\"text-align: right;\">\n      <th></th>\n      <th>data</th>\n    </tr>\n    <tr>\n      <th>key</th>\n      <th></th>\n    </tr>\n  </thead>\n  <tbody>\n    <tr>\n      <th>A</th>\n      <td>5</td>\n    </tr>\n    <tr>\n      <th>B</th>\n      <td>7</td>\n    </tr>\n    <tr>\n      <th>C</th>\n      <td>9</td>\n    </tr>\n  </tbody>\n</table>\n</div>"
     },
     "execution_count": 66,
     "metadata": {},
     "output_type": "execute_result"
    }
   ],
   "source": [
    "df.groupby('key').sum()"
   ]
  },
  {
   "cell_type": "markdown",
   "metadata": {},
   "source": [
    "### Column Indexing and Iterating Over Groups\n",
    "* The `GroupBy` object supports column indexing in the same way as the `DataFrame`, and returns a modified `GroupBy` object\n",
    "* The `GroupBy` object also supports direct iteration over the groups, returning each group as a Series or `DataFrame`"
   ]
  },
  {
   "cell_type": "code",
   "execution_count": 67,
   "metadata": {},
   "outputs": [
    {
     "data": {
      "text/plain": "<pandas.core.groupby.generic.DataFrameGroupBy object at 0x0000018B3A0226A0>"
     },
     "execution_count": 67,
     "metadata": {},
     "output_type": "execute_result"
    }
   ],
   "source": [
    "planets.groupby('method')"
   ]
  },
  {
   "cell_type": "code",
   "execution_count": 68,
   "metadata": {},
   "outputs": [
    {
     "data": {
      "text/plain": "<pandas.core.groupby.generic.SeriesGroupBy object at 0x0000018B3A022D30>"
     },
     "execution_count": 68,
     "metadata": {},
     "output_type": "execute_result"
    }
   ],
   "source": [
    "planets.groupby('method')['orbital_period']"
   ]
  },
  {
   "cell_type": "code",
   "execution_count": 69,
   "metadata": {},
   "outputs": [
    {
     "data": {
      "text/plain": "method\nAstrometry                         631.180000\nEclipse Timing Variations         4343.500000\nImaging                          27500.000000\nMicrolensing                      3300.000000\nOrbital Brightness Modulation        0.342887\nPulsar Timing                       66.541900\nPulsation Timing Variations       1170.000000\nRadial Velocity                    360.200000\nTransit                              5.714932\nTransit Timing Variations           57.011000\nName: orbital_period, dtype: float64"
     },
     "execution_count": 69,
     "metadata": {},
     "output_type": "execute_result"
    }
   ],
   "source": [
    "planets.groupby('method')['orbital_period'].median()"
   ]
  },
  {
   "cell_type": "code",
   "execution_count": 70,
   "metadata": {},
   "outputs": [
    {
     "name": "stdout",
     "output_type": "stream",
     "text": [
      "Astrometry                     shape=(2, 6)\n",
      "Eclipse Timing Variations      shape=(9, 6)\n",
      "Imaging                        shape=(38, 6)\n",
      "Microlensing                   shape=(23, 6)\n",
      "Orbital Brightness Modulation  shape=(3, 6)\n",
      "Pulsar Timing                  shape=(5, 6)\n",
      "Pulsation Timing Variations    shape=(1, 6)\n",
      "Radial Velocity                shape=(553, 6)\n",
      "Transit                        shape=(397, 6)\n",
      "Transit Timing Variations      shape=(4, 6)\n"
     ]
    }
   ],
   "source": [
    "for (method, group) in planets.groupby('method'):\n",
    "    print(\"{0:30s} shape={1}\".format(method, group.shape))"
   ]
  },
  {
   "cell_type": "markdown",
   "metadata": {},
   "source": [
    "### Aggregate, Filter, Transform, and Apply\n",
    "* _Aggregate_: The `aggregate()` method can compute multiple aggregates at once\n",
    "* _Filter_: The `filter()` method allows you to drop data based on group properties\n",
    " * _Note_: `filter()` takes as an argument a function that returns a Boolean value specifying whether the group passes the filtering\n",
    "* _Transformation_: While aggregation must return a reduced version of the data, `transform()` can return some transformed version of the full data to recombine (meaning that we still have the same number of entries before and after the transformation)\n",
    "* _Apply_: The `apply()` method lets you apply an arbitrary function to the group results (or even to `DataFrame`s in general). The arbitrary function should take a `DataFrame`, and return either a Pandas object or a scalar"
   ]
  },
  {
   "cell_type": "code",
   "execution_count": 71,
   "metadata": {},
   "outputs": [
    {
     "data": {
      "text/plain": "  key  data1  data2     price\n0   A      0      7  $ 123.00\n1   B      1      5  $ 112.00\n2   C      2      1  $ 123.00\n3   A      3      8   $ 12.32\n4   B      4      7   $ 14.32\n5   C      5      8   $ 0.123",
      "text/html": "<div>\n<style scoped>\n    .dataframe tbody tr th:only-of-type {\n        vertical-align: middle;\n    }\n\n    .dataframe tbody tr th {\n        vertical-align: top;\n    }\n\n    .dataframe thead th {\n        text-align: right;\n    }\n</style>\n<table border=\"1\" class=\"dataframe\">\n  <thead>\n    <tr style=\"text-align: right;\">\n      <th></th>\n      <th>key</th>\n      <th>data1</th>\n      <th>data2</th>\n      <th>price</th>\n    </tr>\n  </thead>\n  <tbody>\n    <tr>\n      <th>0</th>\n      <td>A</td>\n      <td>0</td>\n      <td>7</td>\n      <td>$ 123.00</td>\n    </tr>\n    <tr>\n      <th>1</th>\n      <td>B</td>\n      <td>1</td>\n      <td>5</td>\n      <td>$ 112.00</td>\n    </tr>\n    <tr>\n      <th>2</th>\n      <td>C</td>\n      <td>2</td>\n      <td>1</td>\n      <td>$ 123.00</td>\n    </tr>\n    <tr>\n      <th>3</th>\n      <td>A</td>\n      <td>3</td>\n      <td>8</td>\n      <td>$ 12.32</td>\n    </tr>\n    <tr>\n      <th>4</th>\n      <td>B</td>\n      <td>4</td>\n      <td>7</td>\n      <td>$ 14.32</td>\n    </tr>\n    <tr>\n      <th>5</th>\n      <td>C</td>\n      <td>5</td>\n      <td>8</td>\n      <td>$ 0.123</td>\n    </tr>\n  </tbody>\n</table>\n</div>"
     },
     "execution_count": 71,
     "metadata": {},
     "output_type": "execute_result"
    }
   ],
   "source": [
    "rng = np.random.RandomState(4)\n",
    "df = pd.DataFrame({'key': ['A', 'B', 'C', 'A', 'B', 'C'],\n",
    "                   'data1': range(6),\n",
    "                   'data2': rng.randint(0, 10, 6),\n",
    "                   'price': ['$ 123.00', '$ 112.00', '$ 123.00', '$ 12.32', '$ 14.32', '$ 0.123']})\n",
    "df"
   ]
  },
  {
   "cell_type": "code",
   "execution_count": 72,
   "metadata": {},
   "outputs": [
    {
     "data": {
      "text/plain": "    data1            data2           \n      min median max   min median max\nkey                                  \nA       0    1.5   3     7    7.5   8\nB       1    2.5   4     5    6.0   7\nC       2    3.5   5     1    4.5   8",
      "text/html": "<div>\n<style scoped>\n    .dataframe tbody tr th:only-of-type {\n        vertical-align: middle;\n    }\n\n    .dataframe tbody tr th {\n        vertical-align: top;\n    }\n\n    .dataframe thead tr th {\n        text-align: left;\n    }\n\n    .dataframe thead tr:last-of-type th {\n        text-align: right;\n    }\n</style>\n<table border=\"1\" class=\"dataframe\">\n  <thead>\n    <tr>\n      <th></th>\n      <th colspan=\"3\" halign=\"left\">data1</th>\n      <th colspan=\"3\" halign=\"left\">data2</th>\n    </tr>\n    <tr>\n      <th></th>\n      <th>min</th>\n      <th>median</th>\n      <th>max</th>\n      <th>min</th>\n      <th>median</th>\n      <th>max</th>\n    </tr>\n    <tr>\n      <th>key</th>\n      <th></th>\n      <th></th>\n      <th></th>\n      <th></th>\n      <th></th>\n      <th></th>\n    </tr>\n  </thead>\n  <tbody>\n    <tr>\n      <th>A</th>\n      <td>0</td>\n      <td>1.5</td>\n      <td>3</td>\n      <td>7</td>\n      <td>7.5</td>\n      <td>8</td>\n    </tr>\n    <tr>\n      <th>B</th>\n      <td>1</td>\n      <td>2.5</td>\n      <td>4</td>\n      <td>5</td>\n      <td>6.0</td>\n      <td>7</td>\n    </tr>\n    <tr>\n      <th>C</th>\n      <td>2</td>\n      <td>3.5</td>\n      <td>5</td>\n      <td>1</td>\n      <td>4.5</td>\n      <td>8</td>\n    </tr>\n  </tbody>\n</table>\n</div>"
     },
     "execution_count": 72,
     "metadata": {},
     "output_type": "execute_result"
    }
   ],
   "source": [
    "df.groupby('key').aggregate(['min', np.median, max]) # Aggregation"
   ]
  },
  {
   "cell_type": "code",
   "execution_count": 73,
   "metadata": {},
   "outputs": [
    {
     "data": {
      "text/plain": "       data1     data2\nkey                   \nA    2.12132  0.707107\nB    2.12132  1.414214\nC    2.12132  4.949747",
      "text/html": "<div>\n<style scoped>\n    .dataframe tbody tr th:only-of-type {\n        vertical-align: middle;\n    }\n\n    .dataframe tbody tr th {\n        vertical-align: top;\n    }\n\n    .dataframe thead th {\n        text-align: right;\n    }\n</style>\n<table border=\"1\" class=\"dataframe\">\n  <thead>\n    <tr style=\"text-align: right;\">\n      <th></th>\n      <th>data1</th>\n      <th>data2</th>\n    </tr>\n    <tr>\n      <th>key</th>\n      <th></th>\n      <th></th>\n    </tr>\n  </thead>\n  <tbody>\n    <tr>\n      <th>A</th>\n      <td>2.12132</td>\n      <td>0.707107</td>\n    </tr>\n    <tr>\n      <th>B</th>\n      <td>2.12132</td>\n      <td>1.414214</td>\n    </tr>\n    <tr>\n      <th>C</th>\n      <td>2.12132</td>\n      <td>4.949747</td>\n    </tr>\n  </tbody>\n</table>\n</div>"
     },
     "execution_count": 73,
     "metadata": {},
     "output_type": "execute_result"
    }
   ],
   "source": [
    "df.groupby('key').std()"
   ]
  },
  {
   "cell_type": "code",
   "execution_count": 74,
   "metadata": {},
   "outputs": [],
   "source": [
    "def filter_func(x):\n",
    "    return x['data2'].std() > 1"
   ]
  },
  {
   "cell_type": "code",
   "execution_count": 75,
   "metadata": {},
   "outputs": [
    {
     "data": {
      "text/plain": "  key  data1  data2     price\n1   B      1      5  $ 112.00\n2   C      2      1  $ 123.00\n4   B      4      7   $ 14.32\n5   C      5      8   $ 0.123",
      "text/html": "<div>\n<style scoped>\n    .dataframe tbody tr th:only-of-type {\n        vertical-align: middle;\n    }\n\n    .dataframe tbody tr th {\n        vertical-align: top;\n    }\n\n    .dataframe thead th {\n        text-align: right;\n    }\n</style>\n<table border=\"1\" class=\"dataframe\">\n  <thead>\n    <tr style=\"text-align: right;\">\n      <th></th>\n      <th>key</th>\n      <th>data1</th>\n      <th>data2</th>\n      <th>price</th>\n    </tr>\n  </thead>\n  <tbody>\n    <tr>\n      <th>1</th>\n      <td>B</td>\n      <td>1</td>\n      <td>5</td>\n      <td>$ 112.00</td>\n    </tr>\n    <tr>\n      <th>2</th>\n      <td>C</td>\n      <td>2</td>\n      <td>1</td>\n      <td>$ 123.00</td>\n    </tr>\n    <tr>\n      <th>4</th>\n      <td>B</td>\n      <td>4</td>\n      <td>7</td>\n      <td>$ 14.32</td>\n    </tr>\n    <tr>\n      <th>5</th>\n      <td>C</td>\n      <td>5</td>\n      <td>8</td>\n      <td>$ 0.123</td>\n    </tr>\n  </tbody>\n</table>\n</div>"
     },
     "execution_count": 75,
     "metadata": {},
     "output_type": "execute_result"
    }
   ],
   "source": [
    "df.groupby('key').filter(filter_func)"
   ]
  },
  {
   "cell_type": "code",
   "execution_count": 76,
   "metadata": {},
   "outputs": [
    {
     "data": {
      "text/plain": "  key  data1  data2    price\n0   A      0      7  123.000\n1   B      1      5  112.000\n2   C      2      1  123.000\n3   A      3      8   12.320\n4   B      4      7   14.320\n5   C      5      8    0.123",
      "text/html": "<div>\n<style scoped>\n    .dataframe tbody tr th:only-of-type {\n        vertical-align: middle;\n    }\n\n    .dataframe tbody tr th {\n        vertical-align: top;\n    }\n\n    .dataframe thead th {\n        text-align: right;\n    }\n</style>\n<table border=\"1\" class=\"dataframe\">\n  <thead>\n    <tr style=\"text-align: right;\">\n      <th></th>\n      <th>key</th>\n      <th>data1</th>\n      <th>data2</th>\n      <th>price</th>\n    </tr>\n  </thead>\n  <tbody>\n    <tr>\n      <th>0</th>\n      <td>A</td>\n      <td>0</td>\n      <td>7</td>\n      <td>123.000</td>\n    </tr>\n    <tr>\n      <th>1</th>\n      <td>B</td>\n      <td>1</td>\n      <td>5</td>\n      <td>112.000</td>\n    </tr>\n    <tr>\n      <th>2</th>\n      <td>C</td>\n      <td>2</td>\n      <td>1</td>\n      <td>123.000</td>\n    </tr>\n    <tr>\n      <th>3</th>\n      <td>A</td>\n      <td>3</td>\n      <td>8</td>\n      <td>12.320</td>\n    </tr>\n    <tr>\n      <th>4</th>\n      <td>B</td>\n      <td>4</td>\n      <td>7</td>\n      <td>14.320</td>\n    </tr>\n    <tr>\n      <th>5</th>\n      <td>C</td>\n      <td>5</td>\n      <td>8</td>\n      <td>0.123</td>\n    </tr>\n  </tbody>\n</table>\n</div>"
     },
     "execution_count": 76,
     "metadata": {},
     "output_type": "execute_result"
    }
   ],
   "source": [
    "def cleanup_price(x):\n",
    "    return float(x[2:])\n",
    "\n",
    "df[\"price\"] = df[\"price\"].apply(cleanup_price)\n",
    "df"
   ]
  },
  {
   "cell_type": "code",
   "execution_count": 77,
   "outputs": [
    {
     "data": {
      "text/plain": "       data1     data2      price\nkey                              \nA    2.12132  0.707107  78.262579\nB    2.12132  1.414214  69.070190\nC    2.12132  4.949747  86.887160",
      "text/html": "<div>\n<style scoped>\n    .dataframe tbody tr th:only-of-type {\n        vertical-align: middle;\n    }\n\n    .dataframe tbody tr th {\n        vertical-align: top;\n    }\n\n    .dataframe thead th {\n        text-align: right;\n    }\n</style>\n<table border=\"1\" class=\"dataframe\">\n  <thead>\n    <tr style=\"text-align: right;\">\n      <th></th>\n      <th>data1</th>\n      <th>data2</th>\n      <th>price</th>\n    </tr>\n    <tr>\n      <th>key</th>\n      <th></th>\n      <th></th>\n      <th></th>\n    </tr>\n  </thead>\n  <tbody>\n    <tr>\n      <th>A</th>\n      <td>2.12132</td>\n      <td>0.707107</td>\n      <td>78.262579</td>\n    </tr>\n    <tr>\n      <th>B</th>\n      <td>2.12132</td>\n      <td>1.414214</td>\n      <td>69.070190</td>\n    </tr>\n    <tr>\n      <th>C</th>\n      <td>2.12132</td>\n      <td>4.949747</td>\n      <td>86.887160</td>\n    </tr>\n  </tbody>\n</table>\n</div>"
     },
     "execution_count": 77,
     "metadata": {},
     "output_type": "execute_result"
    }
   ],
   "source": [
    "df.groupby('key').std()"
   ],
   "metadata": {
    "collapsed": false,
    "pycharm": {
     "name": "#%%\n"
    }
   }
  },
  {
   "cell_type": "markdown",
   "metadata": {},
   "source": [
    "### Transform: an Example Based on Sales Data\n",
    "Source: http://pbpython.com/pandas_transform.html"
   ]
  },
  {
   "cell_type": "code",
   "execution_count": 78,
   "metadata": {},
   "outputs": [],
   "source": [
    "sales = pd.read_excel(\"https://github.com/chris1610/pbpython/blob/master/data/sales_transactions.xlsx?raw=true\")"
   ]
  },
  {
   "cell_type": "code",
   "execution_count": 79,
   "metadata": {},
   "outputs": [
    {
     "data": {
      "text/plain": "   account           name  order       sku  quantity  unit price  ext price\n0   383080       Will LLC  10001  B1-20000         7       33.69     235.83\n1   383080       Will LLC  10001  S1-27722        11       21.12     232.32\n2   383080       Will LLC  10001  B1-86481         3       35.99     107.97\n3   412290  Jerde-Hilpert  10005  S1-06532        48       55.82    2679.36\n4   412290  Jerde-Hilpert  10005  S1-82801        21       13.62     286.02",
      "text/html": "<div>\n<style scoped>\n    .dataframe tbody tr th:only-of-type {\n        vertical-align: middle;\n    }\n\n    .dataframe tbody tr th {\n        vertical-align: top;\n    }\n\n    .dataframe thead th {\n        text-align: right;\n    }\n</style>\n<table border=\"1\" class=\"dataframe\">\n  <thead>\n    <tr style=\"text-align: right;\">\n      <th></th>\n      <th>account</th>\n      <th>name</th>\n      <th>order</th>\n      <th>sku</th>\n      <th>quantity</th>\n      <th>unit price</th>\n      <th>ext price</th>\n    </tr>\n  </thead>\n  <tbody>\n    <tr>\n      <th>0</th>\n      <td>383080</td>\n      <td>Will LLC</td>\n      <td>10001</td>\n      <td>B1-20000</td>\n      <td>7</td>\n      <td>33.69</td>\n      <td>235.83</td>\n    </tr>\n    <tr>\n      <th>1</th>\n      <td>383080</td>\n      <td>Will LLC</td>\n      <td>10001</td>\n      <td>S1-27722</td>\n      <td>11</td>\n      <td>21.12</td>\n      <td>232.32</td>\n    </tr>\n    <tr>\n      <th>2</th>\n      <td>383080</td>\n      <td>Will LLC</td>\n      <td>10001</td>\n      <td>B1-86481</td>\n      <td>3</td>\n      <td>35.99</td>\n      <td>107.97</td>\n    </tr>\n    <tr>\n      <th>3</th>\n      <td>412290</td>\n      <td>Jerde-Hilpert</td>\n      <td>10005</td>\n      <td>S1-06532</td>\n      <td>48</td>\n      <td>55.82</td>\n      <td>2679.36</td>\n    </tr>\n    <tr>\n      <th>4</th>\n      <td>412290</td>\n      <td>Jerde-Hilpert</td>\n      <td>10005</td>\n      <td>S1-82801</td>\n      <td>21</td>\n      <td>13.62</td>\n      <td>286.02</td>\n    </tr>\n  </tbody>\n</table>\n</div>"
     },
     "execution_count": 79,
     "metadata": {},
     "output_type": "execute_result"
    }
   ],
   "source": [
    "sales.head()"
   ]
  },
  {
   "cell_type": "code",
   "execution_count": 80,
   "metadata": {},
   "outputs": [],
   "source": [
    "sales[\"cost\"] = sales[\"quantity\"] * sales[\"unit price\"]"
   ]
  },
  {
   "cell_type": "code",
   "execution_count": 81,
   "metadata": {},
   "outputs": [
    {
     "data": {
      "text/plain": "   account           name  order       sku  quantity  unit price  ext price  \\\n0   383080       Will LLC  10001  B1-20000         7       33.69     235.83   \n1   383080       Will LLC  10001  S1-27722        11       21.12     232.32   \n2   383080       Will LLC  10001  B1-86481         3       35.99     107.97   \n3   412290  Jerde-Hilpert  10005  S1-06532        48       55.82    2679.36   \n4   412290  Jerde-Hilpert  10005  S1-82801        21       13.62     286.02   \n\n      cost  \n0   235.83  \n1   232.32  \n2   107.97  \n3  2679.36  \n4   286.02  ",
      "text/html": "<div>\n<style scoped>\n    .dataframe tbody tr th:only-of-type {\n        vertical-align: middle;\n    }\n\n    .dataframe tbody tr th {\n        vertical-align: top;\n    }\n\n    .dataframe thead th {\n        text-align: right;\n    }\n</style>\n<table border=\"1\" class=\"dataframe\">\n  <thead>\n    <tr style=\"text-align: right;\">\n      <th></th>\n      <th>account</th>\n      <th>name</th>\n      <th>order</th>\n      <th>sku</th>\n      <th>quantity</th>\n      <th>unit price</th>\n      <th>ext price</th>\n      <th>cost</th>\n    </tr>\n  </thead>\n  <tbody>\n    <tr>\n      <th>0</th>\n      <td>383080</td>\n      <td>Will LLC</td>\n      <td>10001</td>\n      <td>B1-20000</td>\n      <td>7</td>\n      <td>33.69</td>\n      <td>235.83</td>\n      <td>235.83</td>\n    </tr>\n    <tr>\n      <th>1</th>\n      <td>383080</td>\n      <td>Will LLC</td>\n      <td>10001</td>\n      <td>S1-27722</td>\n      <td>11</td>\n      <td>21.12</td>\n      <td>232.32</td>\n      <td>232.32</td>\n    </tr>\n    <tr>\n      <th>2</th>\n      <td>383080</td>\n      <td>Will LLC</td>\n      <td>10001</td>\n      <td>B1-86481</td>\n      <td>3</td>\n      <td>35.99</td>\n      <td>107.97</td>\n      <td>107.97</td>\n    </tr>\n    <tr>\n      <th>3</th>\n      <td>412290</td>\n      <td>Jerde-Hilpert</td>\n      <td>10005</td>\n      <td>S1-06532</td>\n      <td>48</td>\n      <td>55.82</td>\n      <td>2679.36</td>\n      <td>2679.36</td>\n    </tr>\n    <tr>\n      <th>4</th>\n      <td>412290</td>\n      <td>Jerde-Hilpert</td>\n      <td>10005</td>\n      <td>S1-82801</td>\n      <td>21</td>\n      <td>13.62</td>\n      <td>286.02</td>\n      <td>286.02</td>\n    </tr>\n  </tbody>\n</table>\n</div>"
     },
     "execution_count": 81,
     "metadata": {},
     "output_type": "execute_result"
    }
   ],
   "source": [
    "sales.head()"
   ]
  },
  {
   "cell_type": "code",
   "execution_count": 82,
   "metadata": {},
   "outputs": [],
   "source": [
    "groupby_order = sales.groupby('order')\n",
    "sales[\"order total\"] = groupby_order[\"cost\"].transform(np.sum)"
   ]
  },
  {
   "cell_type": "code",
   "execution_count": 83,
   "metadata": {},
   "outputs": [
    {
     "data": {
      "text/plain": "   account           name  order       sku  quantity  unit price  ext price  \\\n0   383080       Will LLC  10001  B1-20000         7       33.69     235.83   \n1   383080       Will LLC  10001  S1-27722        11       21.12     232.32   \n2   383080       Will LLC  10001  B1-86481         3       35.99     107.97   \n3   412290  Jerde-Hilpert  10005  S1-06532        48       55.82    2679.36   \n4   412290  Jerde-Hilpert  10005  S1-82801        21       13.62     286.02   \n\n      cost  order total  \n0   235.83       576.12  \n1   232.32       576.12  \n2   107.97       576.12  \n3  2679.36      8185.49  \n4   286.02      8185.49  ",
      "text/html": "<div>\n<style scoped>\n    .dataframe tbody tr th:only-of-type {\n        vertical-align: middle;\n    }\n\n    .dataframe tbody tr th {\n        vertical-align: top;\n    }\n\n    .dataframe thead th {\n        text-align: right;\n    }\n</style>\n<table border=\"1\" class=\"dataframe\">\n  <thead>\n    <tr style=\"text-align: right;\">\n      <th></th>\n      <th>account</th>\n      <th>name</th>\n      <th>order</th>\n      <th>sku</th>\n      <th>quantity</th>\n      <th>unit price</th>\n      <th>ext price</th>\n      <th>cost</th>\n      <th>order total</th>\n    </tr>\n  </thead>\n  <tbody>\n    <tr>\n      <th>0</th>\n      <td>383080</td>\n      <td>Will LLC</td>\n      <td>10001</td>\n      <td>B1-20000</td>\n      <td>7</td>\n      <td>33.69</td>\n      <td>235.83</td>\n      <td>235.83</td>\n      <td>576.12</td>\n    </tr>\n    <tr>\n      <th>1</th>\n      <td>383080</td>\n      <td>Will LLC</td>\n      <td>10001</td>\n      <td>S1-27722</td>\n      <td>11</td>\n      <td>21.12</td>\n      <td>232.32</td>\n      <td>232.32</td>\n      <td>576.12</td>\n    </tr>\n    <tr>\n      <th>2</th>\n      <td>383080</td>\n      <td>Will LLC</td>\n      <td>10001</td>\n      <td>B1-86481</td>\n      <td>3</td>\n      <td>35.99</td>\n      <td>107.97</td>\n      <td>107.97</td>\n      <td>576.12</td>\n    </tr>\n    <tr>\n      <th>3</th>\n      <td>412290</td>\n      <td>Jerde-Hilpert</td>\n      <td>10005</td>\n      <td>S1-06532</td>\n      <td>48</td>\n      <td>55.82</td>\n      <td>2679.36</td>\n      <td>2679.36</td>\n      <td>8185.49</td>\n    </tr>\n    <tr>\n      <th>4</th>\n      <td>412290</td>\n      <td>Jerde-Hilpert</td>\n      <td>10005</td>\n      <td>S1-82801</td>\n      <td>21</td>\n      <td>13.62</td>\n      <td>286.02</td>\n      <td>286.02</td>\n      <td>8185.49</td>\n    </tr>\n  </tbody>\n</table>\n</div>"
     },
     "execution_count": 83,
     "metadata": {},
     "output_type": "execute_result"
    }
   ],
   "source": [
    "sales.head()"
   ]
  },
  {
   "cell_type": "code",
   "execution_count": 84,
   "metadata": {},
   "outputs": [],
   "source": [
    "sales[\"percentage\"] = sales[\"cost\"] / sales[\"order total\"] * 100"
   ]
  },
  {
   "cell_type": "code",
   "execution_count": 85,
   "metadata": {},
   "outputs": [
    {
     "data": {
      "text/plain": "   account           name  order       sku  quantity  unit price  ext price  \\\n0   383080       Will LLC  10001  B1-20000         7       33.69     235.83   \n1   383080       Will LLC  10001  S1-27722        11       21.12     232.32   \n2   383080       Will LLC  10001  B1-86481         3       35.99     107.97   \n3   412290  Jerde-Hilpert  10005  S1-06532        48       55.82    2679.36   \n4   412290  Jerde-Hilpert  10005  S1-82801        21       13.62     286.02   \n\n      cost  order total  percentage  \n0   235.83       576.12   40.934180  \n1   232.32       576.12   40.324932  \n2   107.97       576.12   18.740887  \n3  2679.36      8185.49   32.733043  \n4   286.02      8185.49    3.494232  ",
      "text/html": "<div>\n<style scoped>\n    .dataframe tbody tr th:only-of-type {\n        vertical-align: middle;\n    }\n\n    .dataframe tbody tr th {\n        vertical-align: top;\n    }\n\n    .dataframe thead th {\n        text-align: right;\n    }\n</style>\n<table border=\"1\" class=\"dataframe\">\n  <thead>\n    <tr style=\"text-align: right;\">\n      <th></th>\n      <th>account</th>\n      <th>name</th>\n      <th>order</th>\n      <th>sku</th>\n      <th>quantity</th>\n      <th>unit price</th>\n      <th>ext price</th>\n      <th>cost</th>\n      <th>order total</th>\n      <th>percentage</th>\n    </tr>\n  </thead>\n  <tbody>\n    <tr>\n      <th>0</th>\n      <td>383080</td>\n      <td>Will LLC</td>\n      <td>10001</td>\n      <td>B1-20000</td>\n      <td>7</td>\n      <td>33.69</td>\n      <td>235.83</td>\n      <td>235.83</td>\n      <td>576.12</td>\n      <td>40.934180</td>\n    </tr>\n    <tr>\n      <th>1</th>\n      <td>383080</td>\n      <td>Will LLC</td>\n      <td>10001</td>\n      <td>S1-27722</td>\n      <td>11</td>\n      <td>21.12</td>\n      <td>232.32</td>\n      <td>232.32</td>\n      <td>576.12</td>\n      <td>40.324932</td>\n    </tr>\n    <tr>\n      <th>2</th>\n      <td>383080</td>\n      <td>Will LLC</td>\n      <td>10001</td>\n      <td>B1-86481</td>\n      <td>3</td>\n      <td>35.99</td>\n      <td>107.97</td>\n      <td>107.97</td>\n      <td>576.12</td>\n      <td>18.740887</td>\n    </tr>\n    <tr>\n      <th>3</th>\n      <td>412290</td>\n      <td>Jerde-Hilpert</td>\n      <td>10005</td>\n      <td>S1-06532</td>\n      <td>48</td>\n      <td>55.82</td>\n      <td>2679.36</td>\n      <td>2679.36</td>\n      <td>8185.49</td>\n      <td>32.733043</td>\n    </tr>\n    <tr>\n      <th>4</th>\n      <td>412290</td>\n      <td>Jerde-Hilpert</td>\n      <td>10005</td>\n      <td>S1-82801</td>\n      <td>21</td>\n      <td>13.62</td>\n      <td>286.02</td>\n      <td>286.02</td>\n      <td>8185.49</td>\n      <td>3.494232</td>\n    </tr>\n  </tbody>\n</table>\n</div>"
     },
     "execution_count": 85,
     "metadata": {},
     "output_type": "execute_result"
    }
   ],
   "source": [
    "sales.head()"
   ]
  }
 ],
 "metadata": {
  "kernelspec": {
   "display_name": "Python 3",
   "language": "python",
   "name": "python3"
  },
  "language_info": {
   "codemirror_mode": {
    "name": "ipython",
    "version": 3
   },
   "file_extension": ".py",
   "mimetype": "text/x-python",
   "name": "python",
   "nbconvert_exporter": "python",
   "pygments_lexer": "ipython3",
   "version": "3.7.3"
  }
 },
 "nbformat": 4,
 "nbformat_minor": 2
}